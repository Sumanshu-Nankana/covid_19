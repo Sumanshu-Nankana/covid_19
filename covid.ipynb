{
 "cells": [
  {
   "cell_type": "code",
   "execution_count": 5,
   "metadata": {},
   "outputs": [
    {
     "name": "stdout",
     "output_type": "stream",
     "text": [
      "-  -----------  ------  ----  -----  ---  -----  ------  -----  -------\n",
      "0  USA          561159   859  22133   28  33122  505904  11770  2845135\n",
      "1  Spain        169496  2665  17489  280  64727   87280   7371   600000\n",
      "2  Italy        156363     0  19899    0  34211  102253   3343  1010193\n",
      "3  France       132591     0  14393    0  27186   91012   6845   333807\n",
      "4  Germany      127854     0   3022    0  64300   60532   4895  1317887\n",
      "5  UK            88621  4342  11329  717      0   76948   1559   367667\n",
      "6  Iran          73303  1617   4585  111  45983   22735   3877   275427\n",
      "7  Turkey        56956     0   1198    0   3446   52312   1665   376100\n",
      "8  Belgium       30589   942   3903  303   6707   19979   1234   102151\n",
      "9  Netherlands   26551   964   2823   86    250   23478   1384   115992\n",
      "-  -----------  ------  ----  -----  ---  -----  ------  -----  -------\n"
     ]
    },
    {
     "data": {
      "application/vnd.plotly.v1+json": {
       "config": {
        "plotlyServerURL": "https://plot.ly"
       },
       "data": [
        {
         "hoverlabel": {
          "namelength": 0
         },
         "hovertemplate": "<b>%{hovertext}</b><br><br>country=%{x}<br>active_cases=%{marker.size}",
         "hovertext": [
          "USA"
         ],
         "legendgroup": "USA",
         "marker": {
          "color": "#636efa",
          "size": [
           505904
          ],
          "sizemode": "area",
          "sizeref": 140.5288888888889,
          "symbol": "circle"
         },
         "mode": "markers",
         "name": "USA",
         "showlegend": true,
         "type": "scatter",
         "x": [
          "USA"
         ],
         "xaxis": "x",
         "y": [
          505904
         ],
         "yaxis": "y"
        },
        {
         "hoverlabel": {
          "namelength": 0
         },
         "hovertemplate": "<b>%{hovertext}</b><br><br>country=%{x}<br>active_cases=%{marker.size}",
         "hovertext": [
          "Spain"
         ],
         "legendgroup": "Spain",
         "marker": {
          "color": "#EF553B",
          "size": [
           87280
          ],
          "sizemode": "area",
          "sizeref": 140.5288888888889,
          "symbol": "circle"
         },
         "mode": "markers",
         "name": "Spain",
         "showlegend": true,
         "type": "scatter",
         "x": [
          "Spain"
         ],
         "xaxis": "x",
         "y": [
          87280
         ],
         "yaxis": "y"
        },
        {
         "hoverlabel": {
          "namelength": 0
         },
         "hovertemplate": "<b>%{hovertext}</b><br><br>country=%{x}<br>active_cases=%{marker.size}",
         "hovertext": [
          "Italy"
         ],
         "legendgroup": "Italy",
         "marker": {
          "color": "#00cc96",
          "size": [
           102253
          ],
          "sizemode": "area",
          "sizeref": 140.5288888888889,
          "symbol": "circle"
         },
         "mode": "markers",
         "name": "Italy",
         "showlegend": true,
         "type": "scatter",
         "x": [
          "Italy"
         ],
         "xaxis": "x",
         "y": [
          102253
         ],
         "yaxis": "y"
        },
        {
         "hoverlabel": {
          "namelength": 0
         },
         "hovertemplate": "<b>%{hovertext}</b><br><br>country=%{x}<br>active_cases=%{marker.size}",
         "hovertext": [
          "France"
         ],
         "legendgroup": "France",
         "marker": {
          "color": "#ab63fa",
          "size": [
           91012
          ],
          "sizemode": "area",
          "sizeref": 140.5288888888889,
          "symbol": "circle"
         },
         "mode": "markers",
         "name": "France",
         "showlegend": true,
         "type": "scatter",
         "x": [
          "France"
         ],
         "xaxis": "x",
         "y": [
          91012
         ],
         "yaxis": "y"
        },
        {
         "hoverlabel": {
          "namelength": 0
         },
         "hovertemplate": "<b>%{hovertext}</b><br><br>country=%{x}<br>active_cases=%{marker.size}",
         "hovertext": [
          "Germany"
         ],
         "legendgroup": "Germany",
         "marker": {
          "color": "#FFA15A",
          "size": [
           60532
          ],
          "sizemode": "area",
          "sizeref": 140.5288888888889,
          "symbol": "circle"
         },
         "mode": "markers",
         "name": "Germany",
         "showlegend": true,
         "type": "scatter",
         "x": [
          "Germany"
         ],
         "xaxis": "x",
         "y": [
          60532
         ],
         "yaxis": "y"
        },
        {
         "hoverlabel": {
          "namelength": 0
         },
         "hovertemplate": "<b>%{hovertext}</b><br><br>country=%{x}<br>active_cases=%{marker.size}",
         "hovertext": [
          "UK"
         ],
         "legendgroup": "UK",
         "marker": {
          "color": "#19d3f3",
          "size": [
           76948
          ],
          "sizemode": "area",
          "sizeref": 140.5288888888889,
          "symbol": "circle"
         },
         "mode": "markers",
         "name": "UK",
         "showlegend": true,
         "type": "scatter",
         "x": [
          "UK"
         ],
         "xaxis": "x",
         "y": [
          76948
         ],
         "yaxis": "y"
        },
        {
         "hoverlabel": {
          "namelength": 0
         },
         "hovertemplate": "<b>%{hovertext}</b><br><br>country=%{x}<br>active_cases=%{marker.size}",
         "hovertext": [
          "Iran"
         ],
         "legendgroup": "Iran",
         "marker": {
          "color": "#FF6692",
          "size": [
           22735
          ],
          "sizemode": "area",
          "sizeref": 140.5288888888889,
          "symbol": "circle"
         },
         "mode": "markers",
         "name": "Iran",
         "showlegend": true,
         "type": "scatter",
         "x": [
          "Iran"
         ],
         "xaxis": "x",
         "y": [
          22735
         ],
         "yaxis": "y"
        },
        {
         "hoverlabel": {
          "namelength": 0
         },
         "hovertemplate": "<b>%{hovertext}</b><br><br>country=%{x}<br>active_cases=%{marker.size}",
         "hovertext": [
          "Turkey"
         ],
         "legendgroup": "Turkey",
         "marker": {
          "color": "#B6E880",
          "size": [
           52312
          ],
          "sizemode": "area",
          "sizeref": 140.5288888888889,
          "symbol": "circle"
         },
         "mode": "markers",
         "name": "Turkey",
         "showlegend": true,
         "type": "scatter",
         "x": [
          "Turkey"
         ],
         "xaxis": "x",
         "y": [
          52312
         ],
         "yaxis": "y"
        },
        {
         "hoverlabel": {
          "namelength": 0
         },
         "hovertemplate": "<b>%{hovertext}</b><br><br>country=%{x}<br>active_cases=%{marker.size}",
         "hovertext": [
          "Belgium"
         ],
         "legendgroup": "Belgium",
         "marker": {
          "color": "#FF97FF",
          "size": [
           19979
          ],
          "sizemode": "area",
          "sizeref": 140.5288888888889,
          "symbol": "circle"
         },
         "mode": "markers",
         "name": "Belgium",
         "showlegend": true,
         "type": "scatter",
         "x": [
          "Belgium"
         ],
         "xaxis": "x",
         "y": [
          19979
         ],
         "yaxis": "y"
        },
        {
         "hoverlabel": {
          "namelength": 0
         },
         "hovertemplate": "<b>%{hovertext}</b><br><br>country=%{x}<br>active_cases=%{marker.size}",
         "hovertext": [
          "Netherlands"
         ],
         "legendgroup": "Netherlands",
         "marker": {
          "color": "#FECB52",
          "size": [
           23478
          ],
          "sizemode": "area",
          "sizeref": 140.5288888888889,
          "symbol": "circle"
         },
         "mode": "markers",
         "name": "Netherlands",
         "showlegend": true,
         "type": "scatter",
         "x": [
          "Netherlands"
         ],
         "xaxis": "x",
         "y": [
          23478
         ],
         "yaxis": "y"
        },
        {
         "hoverlabel": {
          "namelength": 0
         },
         "hovertemplate": "<b>%{hovertext}</b><br><br>country=%{x}<br>active_cases=%{marker.size}",
         "hovertext": [
          "Switzerland"
         ],
         "legendgroup": "Switzerland",
         "marker": {
          "color": "#636efa",
          "size": [
           11794
          ],
          "sizemode": "area",
          "sizeref": 140.5288888888889,
          "symbol": "circle"
         },
         "mode": "markers",
         "name": "Switzerland",
         "showlegend": true,
         "type": "scatter",
         "x": [
          "Switzerland"
         ],
         "xaxis": "x",
         "y": [
          11794
         ],
         "yaxis": "y"
        },
        {
         "hoverlabel": {
          "namelength": 0
         },
         "hovertemplate": "<b>%{hovertext}</b><br><br>country=%{x}<br>active_cases=%{marker.size}",
         "hovertext": [
          "Canada"
         ],
         "legendgroup": "Canada",
         "marker": {
          "color": "#EF553B",
          "size": [
           16915
          ],
          "sizemode": "area",
          "sizeref": 140.5288888888889,
          "symbol": "circle"
         },
         "mode": "markers",
         "name": "Canada",
         "showlegend": true,
         "type": "scatter",
         "x": [
          "Canada"
         ],
         "xaxis": "x",
         "y": [
          16915
         ],
         "yaxis": "y"
        },
        {
         "hoverlabel": {
          "namelength": 0
         },
         "hovertemplate": "<b>%{hovertext}</b><br><br>country=%{x}<br>active_cases=%{marker.size}",
         "hovertext": [
          "Brazil"
         ],
         "legendgroup": "Brazil",
         "marker": {
          "color": "#00cc96",
          "size": [
           20904
          ],
          "sizemode": "area",
          "sizeref": 140.5288888888889,
          "symbol": "circle"
         },
         "mode": "markers",
         "name": "Brazil",
         "showlegend": true,
         "type": "scatter",
         "x": [
          "Brazil"
         ],
         "xaxis": "x",
         "y": [
          20904
         ],
         "yaxis": "y"
        },
        {
         "hoverlabel": {
          "namelength": 0
         },
         "hovertemplate": "<b>%{hovertext}</b><br><br>country=%{x}<br>active_cases=%{marker.size}",
         "hovertext": [
          "Russia"
         ],
         "legendgroup": "Russia",
         "marker": {
          "color": "#ab63fa",
          "size": [
           16710
          ],
          "sizemode": "area",
          "sizeref": 140.5288888888889,
          "symbol": "circle"
         },
         "mode": "markers",
         "name": "Russia",
         "showlegend": true,
         "type": "scatter",
         "x": [
          "Russia"
         ],
         "xaxis": "x",
         "y": [
          16710
         ],
         "yaxis": "y"
        },
        {
         "hoverlabel": {
          "namelength": 0
         },
         "hovertemplate": "<b>%{hovertext}</b><br><br>country=%{x}<br>active_cases=%{marker.size}",
         "hovertext": [
          "Portugal"
         ],
         "legendgroup": "Portugal",
         "marker": {
          "color": "#FFA15A",
          "size": [
           16122
          ],
          "sizemode": "area",
          "sizeref": 140.5288888888889,
          "symbol": "circle"
         },
         "mode": "markers",
         "name": "Portugal",
         "showlegend": true,
         "type": "scatter",
         "x": [
          "Portugal"
         ],
         "xaxis": "x",
         "y": [
          16122
         ],
         "yaxis": "y"
        }
       ],
       "layout": {
        "legend": {
         "itemsizing": "constant",
         "title": {
          "text": "country"
         },
         "tracegroupgap": 0
        },
        "margin": {
         "t": 60
        },
        "template": {
         "data": {
          "bar": [
           {
            "error_x": {
             "color": "#2a3f5f"
            },
            "error_y": {
             "color": "#2a3f5f"
            },
            "marker": {
             "line": {
              "color": "#E5ECF6",
              "width": 0.5
             }
            },
            "type": "bar"
           }
          ],
          "barpolar": [
           {
            "marker": {
             "line": {
              "color": "#E5ECF6",
              "width": 0.5
             }
            },
            "type": "barpolar"
           }
          ],
          "carpet": [
           {
            "aaxis": {
             "endlinecolor": "#2a3f5f",
             "gridcolor": "white",
             "linecolor": "white",
             "minorgridcolor": "white",
             "startlinecolor": "#2a3f5f"
            },
            "baxis": {
             "endlinecolor": "#2a3f5f",
             "gridcolor": "white",
             "linecolor": "white",
             "minorgridcolor": "white",
             "startlinecolor": "#2a3f5f"
            },
            "type": "carpet"
           }
          ],
          "choropleth": [
           {
            "colorbar": {
             "outlinewidth": 0,
             "ticks": ""
            },
            "type": "choropleth"
           }
          ],
          "contour": [
           {
            "colorbar": {
             "outlinewidth": 0,
             "ticks": ""
            },
            "colorscale": [
             [
              0,
              "#0d0887"
             ],
             [
              0.1111111111111111,
              "#46039f"
             ],
             [
              0.2222222222222222,
              "#7201a8"
             ],
             [
              0.3333333333333333,
              "#9c179e"
             ],
             [
              0.4444444444444444,
              "#bd3786"
             ],
             [
              0.5555555555555556,
              "#d8576b"
             ],
             [
              0.6666666666666666,
              "#ed7953"
             ],
             [
              0.7777777777777778,
              "#fb9f3a"
             ],
             [
              0.8888888888888888,
              "#fdca26"
             ],
             [
              1,
              "#f0f921"
             ]
            ],
            "type": "contour"
           }
          ],
          "contourcarpet": [
           {
            "colorbar": {
             "outlinewidth": 0,
             "ticks": ""
            },
            "type": "contourcarpet"
           }
          ],
          "heatmap": [
           {
            "colorbar": {
             "outlinewidth": 0,
             "ticks": ""
            },
            "colorscale": [
             [
              0,
              "#0d0887"
             ],
             [
              0.1111111111111111,
              "#46039f"
             ],
             [
              0.2222222222222222,
              "#7201a8"
             ],
             [
              0.3333333333333333,
              "#9c179e"
             ],
             [
              0.4444444444444444,
              "#bd3786"
             ],
             [
              0.5555555555555556,
              "#d8576b"
             ],
             [
              0.6666666666666666,
              "#ed7953"
             ],
             [
              0.7777777777777778,
              "#fb9f3a"
             ],
             [
              0.8888888888888888,
              "#fdca26"
             ],
             [
              1,
              "#f0f921"
             ]
            ],
            "type": "heatmap"
           }
          ],
          "heatmapgl": [
           {
            "colorbar": {
             "outlinewidth": 0,
             "ticks": ""
            },
            "colorscale": [
             [
              0,
              "#0d0887"
             ],
             [
              0.1111111111111111,
              "#46039f"
             ],
             [
              0.2222222222222222,
              "#7201a8"
             ],
             [
              0.3333333333333333,
              "#9c179e"
             ],
             [
              0.4444444444444444,
              "#bd3786"
             ],
             [
              0.5555555555555556,
              "#d8576b"
             ],
             [
              0.6666666666666666,
              "#ed7953"
             ],
             [
              0.7777777777777778,
              "#fb9f3a"
             ],
             [
              0.8888888888888888,
              "#fdca26"
             ],
             [
              1,
              "#f0f921"
             ]
            ],
            "type": "heatmapgl"
           }
          ],
          "histogram": [
           {
            "marker": {
             "colorbar": {
              "outlinewidth": 0,
              "ticks": ""
             }
            },
            "type": "histogram"
           }
          ],
          "histogram2d": [
           {
            "colorbar": {
             "outlinewidth": 0,
             "ticks": ""
            },
            "colorscale": [
             [
              0,
              "#0d0887"
             ],
             [
              0.1111111111111111,
              "#46039f"
             ],
             [
              0.2222222222222222,
              "#7201a8"
             ],
             [
              0.3333333333333333,
              "#9c179e"
             ],
             [
              0.4444444444444444,
              "#bd3786"
             ],
             [
              0.5555555555555556,
              "#d8576b"
             ],
             [
              0.6666666666666666,
              "#ed7953"
             ],
             [
              0.7777777777777778,
              "#fb9f3a"
             ],
             [
              0.8888888888888888,
              "#fdca26"
             ],
             [
              1,
              "#f0f921"
             ]
            ],
            "type": "histogram2d"
           }
          ],
          "histogram2dcontour": [
           {
            "colorbar": {
             "outlinewidth": 0,
             "ticks": ""
            },
            "colorscale": [
             [
              0,
              "#0d0887"
             ],
             [
              0.1111111111111111,
              "#46039f"
             ],
             [
              0.2222222222222222,
              "#7201a8"
             ],
             [
              0.3333333333333333,
              "#9c179e"
             ],
             [
              0.4444444444444444,
              "#bd3786"
             ],
             [
              0.5555555555555556,
              "#d8576b"
             ],
             [
              0.6666666666666666,
              "#ed7953"
             ],
             [
              0.7777777777777778,
              "#fb9f3a"
             ],
             [
              0.8888888888888888,
              "#fdca26"
             ],
             [
              1,
              "#f0f921"
             ]
            ],
            "type": "histogram2dcontour"
           }
          ],
          "mesh3d": [
           {
            "colorbar": {
             "outlinewidth": 0,
             "ticks": ""
            },
            "type": "mesh3d"
           }
          ],
          "parcoords": [
           {
            "line": {
             "colorbar": {
              "outlinewidth": 0,
              "ticks": ""
             }
            },
            "type": "parcoords"
           }
          ],
          "pie": [
           {
            "automargin": true,
            "type": "pie"
           }
          ],
          "scatter": [
           {
            "marker": {
             "colorbar": {
              "outlinewidth": 0,
              "ticks": ""
             }
            },
            "type": "scatter"
           }
          ],
          "scatter3d": [
           {
            "line": {
             "colorbar": {
              "outlinewidth": 0,
              "ticks": ""
             }
            },
            "marker": {
             "colorbar": {
              "outlinewidth": 0,
              "ticks": ""
             }
            },
            "type": "scatter3d"
           }
          ],
          "scattercarpet": [
           {
            "marker": {
             "colorbar": {
              "outlinewidth": 0,
              "ticks": ""
             }
            },
            "type": "scattercarpet"
           }
          ],
          "scattergeo": [
           {
            "marker": {
             "colorbar": {
              "outlinewidth": 0,
              "ticks": ""
             }
            },
            "type": "scattergeo"
           }
          ],
          "scattergl": [
           {
            "marker": {
             "colorbar": {
              "outlinewidth": 0,
              "ticks": ""
             }
            },
            "type": "scattergl"
           }
          ],
          "scattermapbox": [
           {
            "marker": {
             "colorbar": {
              "outlinewidth": 0,
              "ticks": ""
             }
            },
            "type": "scattermapbox"
           }
          ],
          "scatterpolar": [
           {
            "marker": {
             "colorbar": {
              "outlinewidth": 0,
              "ticks": ""
             }
            },
            "type": "scatterpolar"
           }
          ],
          "scatterpolargl": [
           {
            "marker": {
             "colorbar": {
              "outlinewidth": 0,
              "ticks": ""
             }
            },
            "type": "scatterpolargl"
           }
          ],
          "scatterternary": [
           {
            "marker": {
             "colorbar": {
              "outlinewidth": 0,
              "ticks": ""
             }
            },
            "type": "scatterternary"
           }
          ],
          "surface": [
           {
            "colorbar": {
             "outlinewidth": 0,
             "ticks": ""
            },
            "colorscale": [
             [
              0,
              "#0d0887"
             ],
             [
              0.1111111111111111,
              "#46039f"
             ],
             [
              0.2222222222222222,
              "#7201a8"
             ],
             [
              0.3333333333333333,
              "#9c179e"
             ],
             [
              0.4444444444444444,
              "#bd3786"
             ],
             [
              0.5555555555555556,
              "#d8576b"
             ],
             [
              0.6666666666666666,
              "#ed7953"
             ],
             [
              0.7777777777777778,
              "#fb9f3a"
             ],
             [
              0.8888888888888888,
              "#fdca26"
             ],
             [
              1,
              "#f0f921"
             ]
            ],
            "type": "surface"
           }
          ],
          "table": [
           {
            "cells": {
             "fill": {
              "color": "#EBF0F8"
             },
             "line": {
              "color": "white"
             }
            },
            "header": {
             "fill": {
              "color": "#C8D4E3"
             },
             "line": {
              "color": "white"
             }
            },
            "type": "table"
           }
          ]
         },
         "layout": {
          "annotationdefaults": {
           "arrowcolor": "#2a3f5f",
           "arrowhead": 0,
           "arrowwidth": 1
          },
          "coloraxis": {
           "colorbar": {
            "outlinewidth": 0,
            "ticks": ""
           }
          },
          "colorscale": {
           "diverging": [
            [
             0,
             "#8e0152"
            ],
            [
             0.1,
             "#c51b7d"
            ],
            [
             0.2,
             "#de77ae"
            ],
            [
             0.3,
             "#f1b6da"
            ],
            [
             0.4,
             "#fde0ef"
            ],
            [
             0.5,
             "#f7f7f7"
            ],
            [
             0.6,
             "#e6f5d0"
            ],
            [
             0.7,
             "#b8e186"
            ],
            [
             0.8,
             "#7fbc41"
            ],
            [
             0.9,
             "#4d9221"
            ],
            [
             1,
             "#276419"
            ]
           ],
           "sequential": [
            [
             0,
             "#0d0887"
            ],
            [
             0.1111111111111111,
             "#46039f"
            ],
            [
             0.2222222222222222,
             "#7201a8"
            ],
            [
             0.3333333333333333,
             "#9c179e"
            ],
            [
             0.4444444444444444,
             "#bd3786"
            ],
            [
             0.5555555555555556,
             "#d8576b"
            ],
            [
             0.6666666666666666,
             "#ed7953"
            ],
            [
             0.7777777777777778,
             "#fb9f3a"
            ],
            [
             0.8888888888888888,
             "#fdca26"
            ],
            [
             1,
             "#f0f921"
            ]
           ],
           "sequentialminus": [
            [
             0,
             "#0d0887"
            ],
            [
             0.1111111111111111,
             "#46039f"
            ],
            [
             0.2222222222222222,
             "#7201a8"
            ],
            [
             0.3333333333333333,
             "#9c179e"
            ],
            [
             0.4444444444444444,
             "#bd3786"
            ],
            [
             0.5555555555555556,
             "#d8576b"
            ],
            [
             0.6666666666666666,
             "#ed7953"
            ],
            [
             0.7777777777777778,
             "#fb9f3a"
            ],
            [
             0.8888888888888888,
             "#fdca26"
            ],
            [
             1,
             "#f0f921"
            ]
           ]
          },
          "colorway": [
           "#636efa",
           "#EF553B",
           "#00cc96",
           "#ab63fa",
           "#FFA15A",
           "#19d3f3",
           "#FF6692",
           "#B6E880",
           "#FF97FF",
           "#FECB52"
          ],
          "font": {
           "color": "#2a3f5f"
          },
          "geo": {
           "bgcolor": "white",
           "lakecolor": "white",
           "landcolor": "#E5ECF6",
           "showlakes": true,
           "showland": true,
           "subunitcolor": "white"
          },
          "hoverlabel": {
           "align": "left"
          },
          "hovermode": "closest",
          "mapbox": {
           "style": "light"
          },
          "paper_bgcolor": "white",
          "plot_bgcolor": "#E5ECF6",
          "polar": {
           "angularaxis": {
            "gridcolor": "white",
            "linecolor": "white",
            "ticks": ""
           },
           "bgcolor": "#E5ECF6",
           "radialaxis": {
            "gridcolor": "white",
            "linecolor": "white",
            "ticks": ""
           }
          },
          "scene": {
           "xaxis": {
            "backgroundcolor": "#E5ECF6",
            "gridcolor": "white",
            "gridwidth": 2,
            "linecolor": "white",
            "showbackground": true,
            "ticks": "",
            "zerolinecolor": "white"
           },
           "yaxis": {
            "backgroundcolor": "#E5ECF6",
            "gridcolor": "white",
            "gridwidth": 2,
            "linecolor": "white",
            "showbackground": true,
            "ticks": "",
            "zerolinecolor": "white"
           },
           "zaxis": {
            "backgroundcolor": "#E5ECF6",
            "gridcolor": "white",
            "gridwidth": 2,
            "linecolor": "white",
            "showbackground": true,
            "ticks": "",
            "zerolinecolor": "white"
           }
          },
          "shapedefaults": {
           "line": {
            "color": "#2a3f5f"
           }
          },
          "ternary": {
           "aaxis": {
            "gridcolor": "white",
            "linecolor": "white",
            "ticks": ""
           },
           "baxis": {
            "gridcolor": "white",
            "linecolor": "white",
            "ticks": ""
           },
           "bgcolor": "#E5ECF6",
           "caxis": {
            "gridcolor": "white",
            "linecolor": "white",
            "ticks": ""
           }
          },
          "title": {
           "x": 0.05
          },
          "xaxis": {
           "automargin": true,
           "gridcolor": "white",
           "linecolor": "white",
           "ticks": "",
           "title": {
            "standoff": 15
           },
           "zerolinecolor": "white",
           "zerolinewidth": 2
          },
          "yaxis": {
           "automargin": true,
           "gridcolor": "white",
           "linecolor": "white",
           "ticks": "",
           "title": {
            "standoff": 15
           },
           "zerolinecolor": "white",
           "zerolinewidth": 2
          }
         }
        },
        "xaxis": {
         "anchor": "y",
         "categoryarray": [
          "USA",
          "Spain",
          "Italy",
          "France",
          "Germany",
          "UK",
          "Iran",
          "Turkey",
          "Belgium",
          "Netherlands",
          "Switzerland",
          "Canada",
          "Brazil",
          "Russia",
          "Portugal"
         ],
         "categoryorder": "array",
         "domain": [
          0,
          1
         ],
         "title": {
          "text": "country"
         }
        },
        "yaxis": {
         "anchor": "x",
         "domain": [
          0,
          1
         ],
         "title": {
          "text": "active_cases"
         }
        }
       }
      },
      "text/html": [
       "<div>\n",
       "        \n",
       "        \n",
       "            <div id=\"f2aab095-d58c-482e-abaf-35aef8335e6e\" class=\"plotly-graph-div\" style=\"height:525px; width:100%;\"></div>\n",
       "            <script type=\"text/javascript\">\n",
       "                require([\"plotly\"], function(Plotly) {\n",
       "                    window.PLOTLYENV=window.PLOTLYENV || {};\n",
       "                    \n",
       "                if (document.getElementById(\"f2aab095-d58c-482e-abaf-35aef8335e6e\")) {\n",
       "                    Plotly.newPlot(\n",
       "                        'f2aab095-d58c-482e-abaf-35aef8335e6e',\n",
       "                        [{\"hoverlabel\": {\"namelength\": 0}, \"hovertemplate\": \"<b>%{hovertext}</b><br><br>country=%{x}<br>active_cases=%{marker.size}\", \"hovertext\": [\"USA\"], \"legendgroup\": \"USA\", \"marker\": {\"color\": \"#636efa\", \"size\": [505904], \"sizemode\": \"area\", \"sizeref\": 140.5288888888889, \"symbol\": \"circle\"}, \"mode\": \"markers\", \"name\": \"USA\", \"showlegend\": true, \"type\": \"scatter\", \"x\": [\"USA\"], \"xaxis\": \"x\", \"y\": [505904], \"yaxis\": \"y\"}, {\"hoverlabel\": {\"namelength\": 0}, \"hovertemplate\": \"<b>%{hovertext}</b><br><br>country=%{x}<br>active_cases=%{marker.size}\", \"hovertext\": [\"Spain\"], \"legendgroup\": \"Spain\", \"marker\": {\"color\": \"#EF553B\", \"size\": [87280], \"sizemode\": \"area\", \"sizeref\": 140.5288888888889, \"symbol\": \"circle\"}, \"mode\": \"markers\", \"name\": \"Spain\", \"showlegend\": true, \"type\": \"scatter\", \"x\": [\"Spain\"], \"xaxis\": \"x\", \"y\": [87280], \"yaxis\": \"y\"}, {\"hoverlabel\": {\"namelength\": 0}, \"hovertemplate\": \"<b>%{hovertext}</b><br><br>country=%{x}<br>active_cases=%{marker.size}\", \"hovertext\": [\"Italy\"], \"legendgroup\": \"Italy\", \"marker\": {\"color\": \"#00cc96\", \"size\": [102253], \"sizemode\": \"area\", \"sizeref\": 140.5288888888889, \"symbol\": \"circle\"}, \"mode\": \"markers\", \"name\": \"Italy\", \"showlegend\": true, \"type\": \"scatter\", \"x\": [\"Italy\"], \"xaxis\": \"x\", \"y\": [102253], \"yaxis\": \"y\"}, {\"hoverlabel\": {\"namelength\": 0}, \"hovertemplate\": \"<b>%{hovertext}</b><br><br>country=%{x}<br>active_cases=%{marker.size}\", \"hovertext\": [\"France\"], \"legendgroup\": \"France\", \"marker\": {\"color\": \"#ab63fa\", \"size\": [91012], \"sizemode\": \"area\", \"sizeref\": 140.5288888888889, \"symbol\": \"circle\"}, \"mode\": \"markers\", \"name\": \"France\", \"showlegend\": true, \"type\": \"scatter\", \"x\": [\"France\"], \"xaxis\": \"x\", \"y\": [91012], \"yaxis\": \"y\"}, {\"hoverlabel\": {\"namelength\": 0}, \"hovertemplate\": \"<b>%{hovertext}</b><br><br>country=%{x}<br>active_cases=%{marker.size}\", \"hovertext\": [\"Germany\"], \"legendgroup\": \"Germany\", \"marker\": {\"color\": \"#FFA15A\", \"size\": [60532], \"sizemode\": \"area\", \"sizeref\": 140.5288888888889, \"symbol\": \"circle\"}, \"mode\": \"markers\", \"name\": \"Germany\", \"showlegend\": true, \"type\": \"scatter\", \"x\": [\"Germany\"], \"xaxis\": \"x\", \"y\": [60532], \"yaxis\": \"y\"}, {\"hoverlabel\": {\"namelength\": 0}, \"hovertemplate\": \"<b>%{hovertext}</b><br><br>country=%{x}<br>active_cases=%{marker.size}\", \"hovertext\": [\"UK\"], \"legendgroup\": \"UK\", \"marker\": {\"color\": \"#19d3f3\", \"size\": [76948], \"sizemode\": \"area\", \"sizeref\": 140.5288888888889, \"symbol\": \"circle\"}, \"mode\": \"markers\", \"name\": \"UK\", \"showlegend\": true, \"type\": \"scatter\", \"x\": [\"UK\"], \"xaxis\": \"x\", \"y\": [76948], \"yaxis\": \"y\"}, {\"hoverlabel\": {\"namelength\": 0}, \"hovertemplate\": \"<b>%{hovertext}</b><br><br>country=%{x}<br>active_cases=%{marker.size}\", \"hovertext\": [\"Iran\"], \"legendgroup\": \"Iran\", \"marker\": {\"color\": \"#FF6692\", \"size\": [22735], \"sizemode\": \"area\", \"sizeref\": 140.5288888888889, \"symbol\": \"circle\"}, \"mode\": \"markers\", \"name\": \"Iran\", \"showlegend\": true, \"type\": \"scatter\", \"x\": [\"Iran\"], \"xaxis\": \"x\", \"y\": [22735], \"yaxis\": \"y\"}, {\"hoverlabel\": {\"namelength\": 0}, \"hovertemplate\": \"<b>%{hovertext}</b><br><br>country=%{x}<br>active_cases=%{marker.size}\", \"hovertext\": [\"Turkey\"], \"legendgroup\": \"Turkey\", \"marker\": {\"color\": \"#B6E880\", \"size\": [52312], \"sizemode\": \"area\", \"sizeref\": 140.5288888888889, \"symbol\": \"circle\"}, \"mode\": \"markers\", \"name\": \"Turkey\", \"showlegend\": true, \"type\": \"scatter\", \"x\": [\"Turkey\"], \"xaxis\": \"x\", \"y\": [52312], \"yaxis\": \"y\"}, {\"hoverlabel\": {\"namelength\": 0}, \"hovertemplate\": \"<b>%{hovertext}</b><br><br>country=%{x}<br>active_cases=%{marker.size}\", \"hovertext\": [\"Belgium\"], \"legendgroup\": \"Belgium\", \"marker\": {\"color\": \"#FF97FF\", \"size\": [19979], \"sizemode\": \"area\", \"sizeref\": 140.5288888888889, \"symbol\": \"circle\"}, \"mode\": \"markers\", \"name\": \"Belgium\", \"showlegend\": true, \"type\": \"scatter\", \"x\": [\"Belgium\"], \"xaxis\": \"x\", \"y\": [19979], \"yaxis\": \"y\"}, {\"hoverlabel\": {\"namelength\": 0}, \"hovertemplate\": \"<b>%{hovertext}</b><br><br>country=%{x}<br>active_cases=%{marker.size}\", \"hovertext\": [\"Netherlands\"], \"legendgroup\": \"Netherlands\", \"marker\": {\"color\": \"#FECB52\", \"size\": [23478], \"sizemode\": \"area\", \"sizeref\": 140.5288888888889, \"symbol\": \"circle\"}, \"mode\": \"markers\", \"name\": \"Netherlands\", \"showlegend\": true, \"type\": \"scatter\", \"x\": [\"Netherlands\"], \"xaxis\": \"x\", \"y\": [23478], \"yaxis\": \"y\"}, {\"hoverlabel\": {\"namelength\": 0}, \"hovertemplate\": \"<b>%{hovertext}</b><br><br>country=%{x}<br>active_cases=%{marker.size}\", \"hovertext\": [\"Switzerland\"], \"legendgroup\": \"Switzerland\", \"marker\": {\"color\": \"#636efa\", \"size\": [11794], \"sizemode\": \"area\", \"sizeref\": 140.5288888888889, \"symbol\": \"circle\"}, \"mode\": \"markers\", \"name\": \"Switzerland\", \"showlegend\": true, \"type\": \"scatter\", \"x\": [\"Switzerland\"], \"xaxis\": \"x\", \"y\": [11794], \"yaxis\": \"y\"}, {\"hoverlabel\": {\"namelength\": 0}, \"hovertemplate\": \"<b>%{hovertext}</b><br><br>country=%{x}<br>active_cases=%{marker.size}\", \"hovertext\": [\"Canada\"], \"legendgroup\": \"Canada\", \"marker\": {\"color\": \"#EF553B\", \"size\": [16915], \"sizemode\": \"area\", \"sizeref\": 140.5288888888889, \"symbol\": \"circle\"}, \"mode\": \"markers\", \"name\": \"Canada\", \"showlegend\": true, \"type\": \"scatter\", \"x\": [\"Canada\"], \"xaxis\": \"x\", \"y\": [16915], \"yaxis\": \"y\"}, {\"hoverlabel\": {\"namelength\": 0}, \"hovertemplate\": \"<b>%{hovertext}</b><br><br>country=%{x}<br>active_cases=%{marker.size}\", \"hovertext\": [\"Brazil\"], \"legendgroup\": \"Brazil\", \"marker\": {\"color\": \"#00cc96\", \"size\": [20904], \"sizemode\": \"area\", \"sizeref\": 140.5288888888889, \"symbol\": \"circle\"}, \"mode\": \"markers\", \"name\": \"Brazil\", \"showlegend\": true, \"type\": \"scatter\", \"x\": [\"Brazil\"], \"xaxis\": \"x\", \"y\": [20904], \"yaxis\": \"y\"}, {\"hoverlabel\": {\"namelength\": 0}, \"hovertemplate\": \"<b>%{hovertext}</b><br><br>country=%{x}<br>active_cases=%{marker.size}\", \"hovertext\": [\"Russia\"], \"legendgroup\": \"Russia\", \"marker\": {\"color\": \"#ab63fa\", \"size\": [16710], \"sizemode\": \"area\", \"sizeref\": 140.5288888888889, \"symbol\": \"circle\"}, \"mode\": \"markers\", \"name\": \"Russia\", \"showlegend\": true, \"type\": \"scatter\", \"x\": [\"Russia\"], \"xaxis\": \"x\", \"y\": [16710], \"yaxis\": \"y\"}, {\"hoverlabel\": {\"namelength\": 0}, \"hovertemplate\": \"<b>%{hovertext}</b><br><br>country=%{x}<br>active_cases=%{marker.size}\", \"hovertext\": [\"Portugal\"], \"legendgroup\": \"Portugal\", \"marker\": {\"color\": \"#FFA15A\", \"size\": [16122], \"sizemode\": \"area\", \"sizeref\": 140.5288888888889, \"symbol\": \"circle\"}, \"mode\": \"markers\", \"name\": \"Portugal\", \"showlegend\": true, \"type\": \"scatter\", \"x\": [\"Portugal\"], \"xaxis\": \"x\", \"y\": [16122], \"yaxis\": \"y\"}],\n",
       "                        {\"legend\": {\"itemsizing\": \"constant\", \"title\": {\"text\": \"country\"}, \"tracegroupgap\": 0}, \"margin\": {\"t\": 60}, \"template\": {\"data\": {\"bar\": [{\"error_x\": {\"color\": \"#2a3f5f\"}, \"error_y\": {\"color\": \"#2a3f5f\"}, \"marker\": {\"line\": {\"color\": \"#E5ECF6\", \"width\": 0.5}}, \"type\": \"bar\"}], \"barpolar\": [{\"marker\": {\"line\": {\"color\": \"#E5ECF6\", \"width\": 0.5}}, \"type\": \"barpolar\"}], \"carpet\": [{\"aaxis\": {\"endlinecolor\": \"#2a3f5f\", \"gridcolor\": \"white\", \"linecolor\": \"white\", \"minorgridcolor\": \"white\", \"startlinecolor\": \"#2a3f5f\"}, \"baxis\": {\"endlinecolor\": \"#2a3f5f\", \"gridcolor\": \"white\", \"linecolor\": \"white\", \"minorgridcolor\": \"white\", \"startlinecolor\": \"#2a3f5f\"}, \"type\": \"carpet\"}], \"choropleth\": [{\"colorbar\": {\"outlinewidth\": 0, \"ticks\": \"\"}, \"type\": \"choropleth\"}], \"contour\": [{\"colorbar\": {\"outlinewidth\": 0, \"ticks\": \"\"}, \"colorscale\": [[0.0, \"#0d0887\"], [0.1111111111111111, \"#46039f\"], [0.2222222222222222, \"#7201a8\"], [0.3333333333333333, \"#9c179e\"], [0.4444444444444444, \"#bd3786\"], [0.5555555555555556, \"#d8576b\"], [0.6666666666666666, \"#ed7953\"], [0.7777777777777778, \"#fb9f3a\"], [0.8888888888888888, \"#fdca26\"], [1.0, \"#f0f921\"]], \"type\": \"contour\"}], \"contourcarpet\": [{\"colorbar\": {\"outlinewidth\": 0, \"ticks\": \"\"}, \"type\": \"contourcarpet\"}], \"heatmap\": [{\"colorbar\": {\"outlinewidth\": 0, \"ticks\": \"\"}, \"colorscale\": [[0.0, \"#0d0887\"], [0.1111111111111111, \"#46039f\"], [0.2222222222222222, \"#7201a8\"], [0.3333333333333333, \"#9c179e\"], [0.4444444444444444, \"#bd3786\"], [0.5555555555555556, \"#d8576b\"], [0.6666666666666666, \"#ed7953\"], [0.7777777777777778, \"#fb9f3a\"], [0.8888888888888888, \"#fdca26\"], [1.0, \"#f0f921\"]], \"type\": \"heatmap\"}], \"heatmapgl\": [{\"colorbar\": {\"outlinewidth\": 0, \"ticks\": \"\"}, \"colorscale\": [[0.0, \"#0d0887\"], [0.1111111111111111, \"#46039f\"], [0.2222222222222222, \"#7201a8\"], [0.3333333333333333, \"#9c179e\"], [0.4444444444444444, \"#bd3786\"], [0.5555555555555556, \"#d8576b\"], [0.6666666666666666, \"#ed7953\"], [0.7777777777777778, \"#fb9f3a\"], [0.8888888888888888, \"#fdca26\"], [1.0, \"#f0f921\"]], \"type\": \"heatmapgl\"}], \"histogram\": [{\"marker\": {\"colorbar\": {\"outlinewidth\": 0, \"ticks\": \"\"}}, \"type\": \"histogram\"}], \"histogram2d\": [{\"colorbar\": {\"outlinewidth\": 0, \"ticks\": \"\"}, \"colorscale\": [[0.0, \"#0d0887\"], [0.1111111111111111, \"#46039f\"], [0.2222222222222222, \"#7201a8\"], [0.3333333333333333, \"#9c179e\"], [0.4444444444444444, \"#bd3786\"], [0.5555555555555556, \"#d8576b\"], [0.6666666666666666, \"#ed7953\"], [0.7777777777777778, \"#fb9f3a\"], [0.8888888888888888, \"#fdca26\"], [1.0, \"#f0f921\"]], \"type\": \"histogram2d\"}], \"histogram2dcontour\": [{\"colorbar\": {\"outlinewidth\": 0, \"ticks\": \"\"}, \"colorscale\": [[0.0, \"#0d0887\"], [0.1111111111111111, \"#46039f\"], [0.2222222222222222, \"#7201a8\"], [0.3333333333333333, \"#9c179e\"], [0.4444444444444444, \"#bd3786\"], [0.5555555555555556, \"#d8576b\"], [0.6666666666666666, \"#ed7953\"], [0.7777777777777778, \"#fb9f3a\"], [0.8888888888888888, \"#fdca26\"], [1.0, \"#f0f921\"]], \"type\": \"histogram2dcontour\"}], \"mesh3d\": [{\"colorbar\": {\"outlinewidth\": 0, \"ticks\": \"\"}, \"type\": \"mesh3d\"}], \"parcoords\": [{\"line\": {\"colorbar\": {\"outlinewidth\": 0, \"ticks\": \"\"}}, \"type\": \"parcoords\"}], \"pie\": [{\"automargin\": true, \"type\": \"pie\"}], \"scatter\": [{\"marker\": {\"colorbar\": {\"outlinewidth\": 0, \"ticks\": \"\"}}, \"type\": \"scatter\"}], \"scatter3d\": [{\"line\": {\"colorbar\": {\"outlinewidth\": 0, \"ticks\": \"\"}}, \"marker\": {\"colorbar\": {\"outlinewidth\": 0, \"ticks\": \"\"}}, \"type\": \"scatter3d\"}], \"scattercarpet\": [{\"marker\": {\"colorbar\": {\"outlinewidth\": 0, \"ticks\": \"\"}}, \"type\": \"scattercarpet\"}], \"scattergeo\": [{\"marker\": {\"colorbar\": {\"outlinewidth\": 0, \"ticks\": \"\"}}, \"type\": \"scattergeo\"}], \"scattergl\": [{\"marker\": {\"colorbar\": {\"outlinewidth\": 0, \"ticks\": \"\"}}, \"type\": \"scattergl\"}], \"scattermapbox\": [{\"marker\": {\"colorbar\": {\"outlinewidth\": 0, \"ticks\": \"\"}}, \"type\": \"scattermapbox\"}], \"scatterpolar\": [{\"marker\": {\"colorbar\": {\"outlinewidth\": 0, \"ticks\": \"\"}}, \"type\": \"scatterpolar\"}], \"scatterpolargl\": [{\"marker\": {\"colorbar\": {\"outlinewidth\": 0, \"ticks\": \"\"}}, \"type\": \"scatterpolargl\"}], \"scatterternary\": [{\"marker\": {\"colorbar\": {\"outlinewidth\": 0, \"ticks\": \"\"}}, \"type\": \"scatterternary\"}], \"surface\": [{\"colorbar\": {\"outlinewidth\": 0, \"ticks\": \"\"}, \"colorscale\": [[0.0, \"#0d0887\"], [0.1111111111111111, \"#46039f\"], [0.2222222222222222, \"#7201a8\"], [0.3333333333333333, \"#9c179e\"], [0.4444444444444444, \"#bd3786\"], [0.5555555555555556, \"#d8576b\"], [0.6666666666666666, \"#ed7953\"], [0.7777777777777778, \"#fb9f3a\"], [0.8888888888888888, \"#fdca26\"], [1.0, \"#f0f921\"]], \"type\": \"surface\"}], \"table\": [{\"cells\": {\"fill\": {\"color\": \"#EBF0F8\"}, \"line\": {\"color\": \"white\"}}, \"header\": {\"fill\": {\"color\": \"#C8D4E3\"}, \"line\": {\"color\": \"white\"}}, \"type\": \"table\"}]}, \"layout\": {\"annotationdefaults\": {\"arrowcolor\": \"#2a3f5f\", \"arrowhead\": 0, \"arrowwidth\": 1}, \"coloraxis\": {\"colorbar\": {\"outlinewidth\": 0, \"ticks\": \"\"}}, \"colorscale\": {\"diverging\": [[0, \"#8e0152\"], [0.1, \"#c51b7d\"], [0.2, \"#de77ae\"], [0.3, \"#f1b6da\"], [0.4, \"#fde0ef\"], [0.5, \"#f7f7f7\"], [0.6, \"#e6f5d0\"], [0.7, \"#b8e186\"], [0.8, \"#7fbc41\"], [0.9, \"#4d9221\"], [1, \"#276419\"]], \"sequential\": [[0.0, \"#0d0887\"], [0.1111111111111111, \"#46039f\"], [0.2222222222222222, \"#7201a8\"], [0.3333333333333333, \"#9c179e\"], [0.4444444444444444, \"#bd3786\"], [0.5555555555555556, \"#d8576b\"], [0.6666666666666666, \"#ed7953\"], [0.7777777777777778, \"#fb9f3a\"], [0.8888888888888888, \"#fdca26\"], [1.0, \"#f0f921\"]], \"sequentialminus\": [[0.0, \"#0d0887\"], [0.1111111111111111, \"#46039f\"], [0.2222222222222222, \"#7201a8\"], [0.3333333333333333, \"#9c179e\"], [0.4444444444444444, \"#bd3786\"], [0.5555555555555556, \"#d8576b\"], [0.6666666666666666, \"#ed7953\"], [0.7777777777777778, \"#fb9f3a\"], [0.8888888888888888, \"#fdca26\"], [1.0, \"#f0f921\"]]}, \"colorway\": [\"#636efa\", \"#EF553B\", \"#00cc96\", \"#ab63fa\", \"#FFA15A\", \"#19d3f3\", \"#FF6692\", \"#B6E880\", \"#FF97FF\", \"#FECB52\"], \"font\": {\"color\": \"#2a3f5f\"}, \"geo\": {\"bgcolor\": \"white\", \"lakecolor\": \"white\", \"landcolor\": \"#E5ECF6\", \"showlakes\": true, \"showland\": true, \"subunitcolor\": \"white\"}, \"hoverlabel\": {\"align\": \"left\"}, \"hovermode\": \"closest\", \"mapbox\": {\"style\": \"light\"}, \"paper_bgcolor\": \"white\", \"plot_bgcolor\": \"#E5ECF6\", \"polar\": {\"angularaxis\": {\"gridcolor\": \"white\", \"linecolor\": \"white\", \"ticks\": \"\"}, \"bgcolor\": \"#E5ECF6\", \"radialaxis\": {\"gridcolor\": \"white\", \"linecolor\": \"white\", \"ticks\": \"\"}}, \"scene\": {\"xaxis\": {\"backgroundcolor\": \"#E5ECF6\", \"gridcolor\": \"white\", \"gridwidth\": 2, \"linecolor\": \"white\", \"showbackground\": true, \"ticks\": \"\", \"zerolinecolor\": \"white\"}, \"yaxis\": {\"backgroundcolor\": \"#E5ECF6\", \"gridcolor\": \"white\", \"gridwidth\": 2, \"linecolor\": \"white\", \"showbackground\": true, \"ticks\": \"\", \"zerolinecolor\": \"white\"}, \"zaxis\": {\"backgroundcolor\": \"#E5ECF6\", \"gridcolor\": \"white\", \"gridwidth\": 2, \"linecolor\": \"white\", \"showbackground\": true, \"ticks\": \"\", \"zerolinecolor\": \"white\"}}, \"shapedefaults\": {\"line\": {\"color\": \"#2a3f5f\"}}, \"ternary\": {\"aaxis\": {\"gridcolor\": \"white\", \"linecolor\": \"white\", \"ticks\": \"\"}, \"baxis\": {\"gridcolor\": \"white\", \"linecolor\": \"white\", \"ticks\": \"\"}, \"bgcolor\": \"#E5ECF6\", \"caxis\": {\"gridcolor\": \"white\", \"linecolor\": \"white\", \"ticks\": \"\"}}, \"title\": {\"x\": 0.05}, \"xaxis\": {\"automargin\": true, \"gridcolor\": \"white\", \"linecolor\": \"white\", \"ticks\": \"\", \"title\": {\"standoff\": 15}, \"zerolinecolor\": \"white\", \"zerolinewidth\": 2}, \"yaxis\": {\"automargin\": true, \"gridcolor\": \"white\", \"linecolor\": \"white\", \"ticks\": \"\", \"title\": {\"standoff\": 15}, \"zerolinecolor\": \"white\", \"zerolinewidth\": 2}}}, \"xaxis\": {\"anchor\": \"y\", \"categoryarray\": [\"USA\", \"Spain\", \"Italy\", \"France\", \"Germany\", \"UK\", \"Iran\", \"Turkey\", \"Belgium\", \"Netherlands\", \"Switzerland\", \"Canada\", \"Brazil\", \"Russia\", \"Portugal\"], \"categoryorder\": \"array\", \"domain\": [0.0, 1.0], \"title\": {\"text\": \"country\"}}, \"yaxis\": {\"anchor\": \"x\", \"domain\": [0.0, 1.0], \"title\": {\"text\": \"active_cases\"}}},\n",
       "                        {\"responsive\": true}\n",
       "                    ).then(function(){\n",
       "                            \n",
       "var gd = document.getElementById('f2aab095-d58c-482e-abaf-35aef8335e6e');\n",
       "var x = new MutationObserver(function (mutations, observer) {{\n",
       "        var display = window.getComputedStyle(gd).display;\n",
       "        if (!display || display === 'none') {{\n",
       "            console.log([gd, 'removed!']);\n",
       "            Plotly.purge(gd);\n",
       "            observer.disconnect();\n",
       "        }}\n",
       "}});\n",
       "\n",
       "// Listen for the removal of the full notebook cells\n",
       "var notebookContainer = gd.closest('#notebook-container');\n",
       "if (notebookContainer) {{\n",
       "    x.observe(notebookContainer, {childList: true});\n",
       "}}\n",
       "\n",
       "// Listen for the clearing of the current output cell\n",
       "var outputEl = gd.closest('.output');\n",
       "if (outputEl) {{\n",
       "    x.observe(outputEl, {childList: true});\n",
       "}}\n",
       "\n",
       "                        })\n",
       "                };\n",
       "                });\n",
       "            </script>\n",
       "        </div>"
      ]
     },
     "metadata": {},
     "output_type": "display_data"
    },
    {
     "data": {
      "application/vnd.plotly.v1+json": {
       "config": {
        "plotlyServerURL": "https://plot.ly"
       },
       "data": [
        {
         "hoverlabel": {
          "namelength": 0
         },
         "hovertemplate": "<b>%{hovertext}</b><br><br>country=%{x}<br>total_deaths=%{marker.size}",
         "hovertext": [
          "USA"
         ],
         "legendgroup": "USA",
         "marker": {
          "color": "#636efa",
          "size": [
           22133
          ],
          "sizemode": "area",
          "sizeref": 6.148055555555556,
          "symbol": "circle"
         },
         "mode": "markers",
         "name": "USA",
         "showlegend": true,
         "type": "scatter",
         "x": [
          "USA"
         ],
         "xaxis": "x",
         "y": [
          22133
         ],
         "yaxis": "y"
        },
        {
         "hoverlabel": {
          "namelength": 0
         },
         "hovertemplate": "<b>%{hovertext}</b><br><br>country=%{x}<br>total_deaths=%{marker.size}",
         "hovertext": [
          "Spain"
         ],
         "legendgroup": "Spain",
         "marker": {
          "color": "#EF553B",
          "size": [
           17489
          ],
          "sizemode": "area",
          "sizeref": 6.148055555555556,
          "symbol": "circle"
         },
         "mode": "markers",
         "name": "Spain",
         "showlegend": true,
         "type": "scatter",
         "x": [
          "Spain"
         ],
         "xaxis": "x",
         "y": [
          17489
         ],
         "yaxis": "y"
        },
        {
         "hoverlabel": {
          "namelength": 0
         },
         "hovertemplate": "<b>%{hovertext}</b><br><br>country=%{x}<br>total_deaths=%{marker.size}",
         "hovertext": [
          "Italy"
         ],
         "legendgroup": "Italy",
         "marker": {
          "color": "#00cc96",
          "size": [
           19899
          ],
          "sizemode": "area",
          "sizeref": 6.148055555555556,
          "symbol": "circle"
         },
         "mode": "markers",
         "name": "Italy",
         "showlegend": true,
         "type": "scatter",
         "x": [
          "Italy"
         ],
         "xaxis": "x",
         "y": [
          19899
         ],
         "yaxis": "y"
        },
        {
         "hoverlabel": {
          "namelength": 0
         },
         "hovertemplate": "<b>%{hovertext}</b><br><br>country=%{x}<br>total_deaths=%{marker.size}",
         "hovertext": [
          "France"
         ],
         "legendgroup": "France",
         "marker": {
          "color": "#ab63fa",
          "size": [
           14393
          ],
          "sizemode": "area",
          "sizeref": 6.148055555555556,
          "symbol": "circle"
         },
         "mode": "markers",
         "name": "France",
         "showlegend": true,
         "type": "scatter",
         "x": [
          "France"
         ],
         "xaxis": "x",
         "y": [
          14393
         ],
         "yaxis": "y"
        },
        {
         "hoverlabel": {
          "namelength": 0
         },
         "hovertemplate": "<b>%{hovertext}</b><br><br>country=%{x}<br>total_deaths=%{marker.size}",
         "hovertext": [
          "Germany"
         ],
         "legendgroup": "Germany",
         "marker": {
          "color": "#FFA15A",
          "size": [
           3022
          ],
          "sizemode": "area",
          "sizeref": 6.148055555555556,
          "symbol": "circle"
         },
         "mode": "markers",
         "name": "Germany",
         "showlegend": true,
         "type": "scatter",
         "x": [
          "Germany"
         ],
         "xaxis": "x",
         "y": [
          3022
         ],
         "yaxis": "y"
        },
        {
         "hoverlabel": {
          "namelength": 0
         },
         "hovertemplate": "<b>%{hovertext}</b><br><br>country=%{x}<br>total_deaths=%{marker.size}",
         "hovertext": [
          "UK"
         ],
         "legendgroup": "UK",
         "marker": {
          "color": "#19d3f3",
          "size": [
           11329
          ],
          "sizemode": "area",
          "sizeref": 6.148055555555556,
          "symbol": "circle"
         },
         "mode": "markers",
         "name": "UK",
         "showlegend": true,
         "type": "scatter",
         "x": [
          "UK"
         ],
         "xaxis": "x",
         "y": [
          11329
         ],
         "yaxis": "y"
        },
        {
         "hoverlabel": {
          "namelength": 0
         },
         "hovertemplate": "<b>%{hovertext}</b><br><br>country=%{x}<br>total_deaths=%{marker.size}",
         "hovertext": [
          "Iran"
         ],
         "legendgroup": "Iran",
         "marker": {
          "color": "#FF6692",
          "size": [
           4585
          ],
          "sizemode": "area",
          "sizeref": 6.148055555555556,
          "symbol": "circle"
         },
         "mode": "markers",
         "name": "Iran",
         "showlegend": true,
         "type": "scatter",
         "x": [
          "Iran"
         ],
         "xaxis": "x",
         "y": [
          4585
         ],
         "yaxis": "y"
        },
        {
         "hoverlabel": {
          "namelength": 0
         },
         "hovertemplate": "<b>%{hovertext}</b><br><br>country=%{x}<br>total_deaths=%{marker.size}",
         "hovertext": [
          "Turkey"
         ],
         "legendgroup": "Turkey",
         "marker": {
          "color": "#B6E880",
          "size": [
           1198
          ],
          "sizemode": "area",
          "sizeref": 6.148055555555556,
          "symbol": "circle"
         },
         "mode": "markers",
         "name": "Turkey",
         "showlegend": true,
         "type": "scatter",
         "x": [
          "Turkey"
         ],
         "xaxis": "x",
         "y": [
          1198
         ],
         "yaxis": "y"
        },
        {
         "hoverlabel": {
          "namelength": 0
         },
         "hovertemplate": "<b>%{hovertext}</b><br><br>country=%{x}<br>total_deaths=%{marker.size}",
         "hovertext": [
          "Belgium"
         ],
         "legendgroup": "Belgium",
         "marker": {
          "color": "#FF97FF",
          "size": [
           3903
          ],
          "sizemode": "area",
          "sizeref": 6.148055555555556,
          "symbol": "circle"
         },
         "mode": "markers",
         "name": "Belgium",
         "showlegend": true,
         "type": "scatter",
         "x": [
          "Belgium"
         ],
         "xaxis": "x",
         "y": [
          3903
         ],
         "yaxis": "y"
        },
        {
         "hoverlabel": {
          "namelength": 0
         },
         "hovertemplate": "<b>%{hovertext}</b><br><br>country=%{x}<br>total_deaths=%{marker.size}",
         "hovertext": [
          "Netherlands"
         ],
         "legendgroup": "Netherlands",
         "marker": {
          "color": "#FECB52",
          "size": [
           2823
          ],
          "sizemode": "area",
          "sizeref": 6.148055555555556,
          "symbol": "circle"
         },
         "mode": "markers",
         "name": "Netherlands",
         "showlegend": true,
         "type": "scatter",
         "x": [
          "Netherlands"
         ],
         "xaxis": "x",
         "y": [
          2823
         ],
         "yaxis": "y"
        },
        {
         "hoverlabel": {
          "namelength": 0
         },
         "hovertemplate": "<b>%{hovertext}</b><br><br>country=%{x}<br>total_deaths=%{marker.size}",
         "hovertext": [
          "Switzerland"
         ],
         "legendgroup": "Switzerland",
         "marker": {
          "color": "#636efa",
          "size": [
           1129
          ],
          "sizemode": "area",
          "sizeref": 6.148055555555556,
          "symbol": "circle"
         },
         "mode": "markers",
         "name": "Switzerland",
         "showlegend": true,
         "type": "scatter",
         "x": [
          "Switzerland"
         ],
         "xaxis": "x",
         "y": [
          1129
         ],
         "yaxis": "y"
        },
        {
         "hoverlabel": {
          "namelength": 0
         },
         "hovertemplate": "<b>%{hovertext}</b><br><br>country=%{x}<br>total_deaths=%{marker.size}",
         "hovertext": [
          "Canada"
         ],
         "legendgroup": "Canada",
         "marker": {
          "color": "#EF553B",
          "size": [
           717
          ],
          "sizemode": "area",
          "sizeref": 6.148055555555556,
          "symbol": "circle"
         },
         "mode": "markers",
         "name": "Canada",
         "showlegend": true,
         "type": "scatter",
         "x": [
          "Canada"
         ],
         "xaxis": "x",
         "y": [
          717
         ],
         "yaxis": "y"
        },
        {
         "hoverlabel": {
          "namelength": 0
         },
         "hovertemplate": "<b>%{hovertext}</b><br><br>country=%{x}<br>total_deaths=%{marker.size}",
         "hovertext": [
          "Brazil"
         ],
         "legendgroup": "Brazil",
         "marker": {
          "color": "#00cc96",
          "size": [
           1241
          ],
          "sizemode": "area",
          "sizeref": 6.148055555555556,
          "symbol": "circle"
         },
         "mode": "markers",
         "name": "Brazil",
         "showlegend": true,
         "type": "scatter",
         "x": [
          "Brazil"
         ],
         "xaxis": "x",
         "y": [
          1241
         ],
         "yaxis": "y"
        },
        {
         "hoverlabel": {
          "namelength": 0
         },
         "hovertemplate": "<b>%{hovertext}</b><br><br>country=%{x}<br>total_deaths=%{marker.size}",
         "hovertext": [
          "Russia"
         ],
         "legendgroup": "Russia",
         "marker": {
          "color": "#ab63fa",
          "size": [
           148
          ],
          "sizemode": "area",
          "sizeref": 6.148055555555556,
          "symbol": "circle"
         },
         "mode": "markers",
         "name": "Russia",
         "showlegend": true,
         "type": "scatter",
         "x": [
          "Russia"
         ],
         "xaxis": "x",
         "y": [
          148
         ],
         "yaxis": "y"
        },
        {
         "hoverlabel": {
          "namelength": 0
         },
         "hovertemplate": "<b>%{hovertext}</b><br><br>country=%{x}<br>total_deaths=%{marker.size}",
         "hovertext": [
          "Portugal"
         ],
         "legendgroup": "Portugal",
         "marker": {
          "color": "#FFA15A",
          "size": [
           535
          ],
          "sizemode": "area",
          "sizeref": 6.148055555555556,
          "symbol": "circle"
         },
         "mode": "markers",
         "name": "Portugal",
         "showlegend": true,
         "type": "scatter",
         "x": [
          "Portugal"
         ],
         "xaxis": "x",
         "y": [
          535
         ],
         "yaxis": "y"
        }
       ],
       "layout": {
        "legend": {
         "itemsizing": "constant",
         "title": {
          "text": "country"
         },
         "tracegroupgap": 0
        },
        "margin": {
         "t": 60
        },
        "template": {
         "data": {
          "bar": [
           {
            "error_x": {
             "color": "#2a3f5f"
            },
            "error_y": {
             "color": "#2a3f5f"
            },
            "marker": {
             "line": {
              "color": "#E5ECF6",
              "width": 0.5
             }
            },
            "type": "bar"
           }
          ],
          "barpolar": [
           {
            "marker": {
             "line": {
              "color": "#E5ECF6",
              "width": 0.5
             }
            },
            "type": "barpolar"
           }
          ],
          "carpet": [
           {
            "aaxis": {
             "endlinecolor": "#2a3f5f",
             "gridcolor": "white",
             "linecolor": "white",
             "minorgridcolor": "white",
             "startlinecolor": "#2a3f5f"
            },
            "baxis": {
             "endlinecolor": "#2a3f5f",
             "gridcolor": "white",
             "linecolor": "white",
             "minorgridcolor": "white",
             "startlinecolor": "#2a3f5f"
            },
            "type": "carpet"
           }
          ],
          "choropleth": [
           {
            "colorbar": {
             "outlinewidth": 0,
             "ticks": ""
            },
            "type": "choropleth"
           }
          ],
          "contour": [
           {
            "colorbar": {
             "outlinewidth": 0,
             "ticks": ""
            },
            "colorscale": [
             [
              0,
              "#0d0887"
             ],
             [
              0.1111111111111111,
              "#46039f"
             ],
             [
              0.2222222222222222,
              "#7201a8"
             ],
             [
              0.3333333333333333,
              "#9c179e"
             ],
             [
              0.4444444444444444,
              "#bd3786"
             ],
             [
              0.5555555555555556,
              "#d8576b"
             ],
             [
              0.6666666666666666,
              "#ed7953"
             ],
             [
              0.7777777777777778,
              "#fb9f3a"
             ],
             [
              0.8888888888888888,
              "#fdca26"
             ],
             [
              1,
              "#f0f921"
             ]
            ],
            "type": "contour"
           }
          ],
          "contourcarpet": [
           {
            "colorbar": {
             "outlinewidth": 0,
             "ticks": ""
            },
            "type": "contourcarpet"
           }
          ],
          "heatmap": [
           {
            "colorbar": {
             "outlinewidth": 0,
             "ticks": ""
            },
            "colorscale": [
             [
              0,
              "#0d0887"
             ],
             [
              0.1111111111111111,
              "#46039f"
             ],
             [
              0.2222222222222222,
              "#7201a8"
             ],
             [
              0.3333333333333333,
              "#9c179e"
             ],
             [
              0.4444444444444444,
              "#bd3786"
             ],
             [
              0.5555555555555556,
              "#d8576b"
             ],
             [
              0.6666666666666666,
              "#ed7953"
             ],
             [
              0.7777777777777778,
              "#fb9f3a"
             ],
             [
              0.8888888888888888,
              "#fdca26"
             ],
             [
              1,
              "#f0f921"
             ]
            ],
            "type": "heatmap"
           }
          ],
          "heatmapgl": [
           {
            "colorbar": {
             "outlinewidth": 0,
             "ticks": ""
            },
            "colorscale": [
             [
              0,
              "#0d0887"
             ],
             [
              0.1111111111111111,
              "#46039f"
             ],
             [
              0.2222222222222222,
              "#7201a8"
             ],
             [
              0.3333333333333333,
              "#9c179e"
             ],
             [
              0.4444444444444444,
              "#bd3786"
             ],
             [
              0.5555555555555556,
              "#d8576b"
             ],
             [
              0.6666666666666666,
              "#ed7953"
             ],
             [
              0.7777777777777778,
              "#fb9f3a"
             ],
             [
              0.8888888888888888,
              "#fdca26"
             ],
             [
              1,
              "#f0f921"
             ]
            ],
            "type": "heatmapgl"
           }
          ],
          "histogram": [
           {
            "marker": {
             "colorbar": {
              "outlinewidth": 0,
              "ticks": ""
             }
            },
            "type": "histogram"
           }
          ],
          "histogram2d": [
           {
            "colorbar": {
             "outlinewidth": 0,
             "ticks": ""
            },
            "colorscale": [
             [
              0,
              "#0d0887"
             ],
             [
              0.1111111111111111,
              "#46039f"
             ],
             [
              0.2222222222222222,
              "#7201a8"
             ],
             [
              0.3333333333333333,
              "#9c179e"
             ],
             [
              0.4444444444444444,
              "#bd3786"
             ],
             [
              0.5555555555555556,
              "#d8576b"
             ],
             [
              0.6666666666666666,
              "#ed7953"
             ],
             [
              0.7777777777777778,
              "#fb9f3a"
             ],
             [
              0.8888888888888888,
              "#fdca26"
             ],
             [
              1,
              "#f0f921"
             ]
            ],
            "type": "histogram2d"
           }
          ],
          "histogram2dcontour": [
           {
            "colorbar": {
             "outlinewidth": 0,
             "ticks": ""
            },
            "colorscale": [
             [
              0,
              "#0d0887"
             ],
             [
              0.1111111111111111,
              "#46039f"
             ],
             [
              0.2222222222222222,
              "#7201a8"
             ],
             [
              0.3333333333333333,
              "#9c179e"
             ],
             [
              0.4444444444444444,
              "#bd3786"
             ],
             [
              0.5555555555555556,
              "#d8576b"
             ],
             [
              0.6666666666666666,
              "#ed7953"
             ],
             [
              0.7777777777777778,
              "#fb9f3a"
             ],
             [
              0.8888888888888888,
              "#fdca26"
             ],
             [
              1,
              "#f0f921"
             ]
            ],
            "type": "histogram2dcontour"
           }
          ],
          "mesh3d": [
           {
            "colorbar": {
             "outlinewidth": 0,
             "ticks": ""
            },
            "type": "mesh3d"
           }
          ],
          "parcoords": [
           {
            "line": {
             "colorbar": {
              "outlinewidth": 0,
              "ticks": ""
             }
            },
            "type": "parcoords"
           }
          ],
          "pie": [
           {
            "automargin": true,
            "type": "pie"
           }
          ],
          "scatter": [
           {
            "marker": {
             "colorbar": {
              "outlinewidth": 0,
              "ticks": ""
             }
            },
            "type": "scatter"
           }
          ],
          "scatter3d": [
           {
            "line": {
             "colorbar": {
              "outlinewidth": 0,
              "ticks": ""
             }
            },
            "marker": {
             "colorbar": {
              "outlinewidth": 0,
              "ticks": ""
             }
            },
            "type": "scatter3d"
           }
          ],
          "scattercarpet": [
           {
            "marker": {
             "colorbar": {
              "outlinewidth": 0,
              "ticks": ""
             }
            },
            "type": "scattercarpet"
           }
          ],
          "scattergeo": [
           {
            "marker": {
             "colorbar": {
              "outlinewidth": 0,
              "ticks": ""
             }
            },
            "type": "scattergeo"
           }
          ],
          "scattergl": [
           {
            "marker": {
             "colorbar": {
              "outlinewidth": 0,
              "ticks": ""
             }
            },
            "type": "scattergl"
           }
          ],
          "scattermapbox": [
           {
            "marker": {
             "colorbar": {
              "outlinewidth": 0,
              "ticks": ""
             }
            },
            "type": "scattermapbox"
           }
          ],
          "scatterpolar": [
           {
            "marker": {
             "colorbar": {
              "outlinewidth": 0,
              "ticks": ""
             }
            },
            "type": "scatterpolar"
           }
          ],
          "scatterpolargl": [
           {
            "marker": {
             "colorbar": {
              "outlinewidth": 0,
              "ticks": ""
             }
            },
            "type": "scatterpolargl"
           }
          ],
          "scatterternary": [
           {
            "marker": {
             "colorbar": {
              "outlinewidth": 0,
              "ticks": ""
             }
            },
            "type": "scatterternary"
           }
          ],
          "surface": [
           {
            "colorbar": {
             "outlinewidth": 0,
             "ticks": ""
            },
            "colorscale": [
             [
              0,
              "#0d0887"
             ],
             [
              0.1111111111111111,
              "#46039f"
             ],
             [
              0.2222222222222222,
              "#7201a8"
             ],
             [
              0.3333333333333333,
              "#9c179e"
             ],
             [
              0.4444444444444444,
              "#bd3786"
             ],
             [
              0.5555555555555556,
              "#d8576b"
             ],
             [
              0.6666666666666666,
              "#ed7953"
             ],
             [
              0.7777777777777778,
              "#fb9f3a"
             ],
             [
              0.8888888888888888,
              "#fdca26"
             ],
             [
              1,
              "#f0f921"
             ]
            ],
            "type": "surface"
           }
          ],
          "table": [
           {
            "cells": {
             "fill": {
              "color": "#EBF0F8"
             },
             "line": {
              "color": "white"
             }
            },
            "header": {
             "fill": {
              "color": "#C8D4E3"
             },
             "line": {
              "color": "white"
             }
            },
            "type": "table"
           }
          ]
         },
         "layout": {
          "annotationdefaults": {
           "arrowcolor": "#2a3f5f",
           "arrowhead": 0,
           "arrowwidth": 1
          },
          "coloraxis": {
           "colorbar": {
            "outlinewidth": 0,
            "ticks": ""
           }
          },
          "colorscale": {
           "diverging": [
            [
             0,
             "#8e0152"
            ],
            [
             0.1,
             "#c51b7d"
            ],
            [
             0.2,
             "#de77ae"
            ],
            [
             0.3,
             "#f1b6da"
            ],
            [
             0.4,
             "#fde0ef"
            ],
            [
             0.5,
             "#f7f7f7"
            ],
            [
             0.6,
             "#e6f5d0"
            ],
            [
             0.7,
             "#b8e186"
            ],
            [
             0.8,
             "#7fbc41"
            ],
            [
             0.9,
             "#4d9221"
            ],
            [
             1,
             "#276419"
            ]
           ],
           "sequential": [
            [
             0,
             "#0d0887"
            ],
            [
             0.1111111111111111,
             "#46039f"
            ],
            [
             0.2222222222222222,
             "#7201a8"
            ],
            [
             0.3333333333333333,
             "#9c179e"
            ],
            [
             0.4444444444444444,
             "#bd3786"
            ],
            [
             0.5555555555555556,
             "#d8576b"
            ],
            [
             0.6666666666666666,
             "#ed7953"
            ],
            [
             0.7777777777777778,
             "#fb9f3a"
            ],
            [
             0.8888888888888888,
             "#fdca26"
            ],
            [
             1,
             "#f0f921"
            ]
           ],
           "sequentialminus": [
            [
             0,
             "#0d0887"
            ],
            [
             0.1111111111111111,
             "#46039f"
            ],
            [
             0.2222222222222222,
             "#7201a8"
            ],
            [
             0.3333333333333333,
             "#9c179e"
            ],
            [
             0.4444444444444444,
             "#bd3786"
            ],
            [
             0.5555555555555556,
             "#d8576b"
            ],
            [
             0.6666666666666666,
             "#ed7953"
            ],
            [
             0.7777777777777778,
             "#fb9f3a"
            ],
            [
             0.8888888888888888,
             "#fdca26"
            ],
            [
             1,
             "#f0f921"
            ]
           ]
          },
          "colorway": [
           "#636efa",
           "#EF553B",
           "#00cc96",
           "#ab63fa",
           "#FFA15A",
           "#19d3f3",
           "#FF6692",
           "#B6E880",
           "#FF97FF",
           "#FECB52"
          ],
          "font": {
           "color": "#2a3f5f"
          },
          "geo": {
           "bgcolor": "white",
           "lakecolor": "white",
           "landcolor": "#E5ECF6",
           "showlakes": true,
           "showland": true,
           "subunitcolor": "white"
          },
          "hoverlabel": {
           "align": "left"
          },
          "hovermode": "closest",
          "mapbox": {
           "style": "light"
          },
          "paper_bgcolor": "white",
          "plot_bgcolor": "#E5ECF6",
          "polar": {
           "angularaxis": {
            "gridcolor": "white",
            "linecolor": "white",
            "ticks": ""
           },
           "bgcolor": "#E5ECF6",
           "radialaxis": {
            "gridcolor": "white",
            "linecolor": "white",
            "ticks": ""
           }
          },
          "scene": {
           "xaxis": {
            "backgroundcolor": "#E5ECF6",
            "gridcolor": "white",
            "gridwidth": 2,
            "linecolor": "white",
            "showbackground": true,
            "ticks": "",
            "zerolinecolor": "white"
           },
           "yaxis": {
            "backgroundcolor": "#E5ECF6",
            "gridcolor": "white",
            "gridwidth": 2,
            "linecolor": "white",
            "showbackground": true,
            "ticks": "",
            "zerolinecolor": "white"
           },
           "zaxis": {
            "backgroundcolor": "#E5ECF6",
            "gridcolor": "white",
            "gridwidth": 2,
            "linecolor": "white",
            "showbackground": true,
            "ticks": "",
            "zerolinecolor": "white"
           }
          },
          "shapedefaults": {
           "line": {
            "color": "#2a3f5f"
           }
          },
          "ternary": {
           "aaxis": {
            "gridcolor": "white",
            "linecolor": "white",
            "ticks": ""
           },
           "baxis": {
            "gridcolor": "white",
            "linecolor": "white",
            "ticks": ""
           },
           "bgcolor": "#E5ECF6",
           "caxis": {
            "gridcolor": "white",
            "linecolor": "white",
            "ticks": ""
           }
          },
          "title": {
           "x": 0.05
          },
          "xaxis": {
           "automargin": true,
           "gridcolor": "white",
           "linecolor": "white",
           "ticks": "",
           "title": {
            "standoff": 15
           },
           "zerolinecolor": "white",
           "zerolinewidth": 2
          },
          "yaxis": {
           "automargin": true,
           "gridcolor": "white",
           "linecolor": "white",
           "ticks": "",
           "title": {
            "standoff": 15
           },
           "zerolinecolor": "white",
           "zerolinewidth": 2
          }
         }
        },
        "xaxis": {
         "anchor": "y",
         "categoryarray": [
          "USA",
          "Spain",
          "Italy",
          "France",
          "Germany",
          "UK",
          "Iran",
          "Turkey",
          "Belgium",
          "Netherlands",
          "Switzerland",
          "Canada",
          "Brazil",
          "Russia",
          "Portugal"
         ],
         "categoryorder": "array",
         "domain": [
          0,
          1
         ],
         "title": {
          "text": "country"
         }
        },
        "yaxis": {
         "anchor": "x",
         "domain": [
          0,
          1
         ],
         "title": {
          "text": "total_deaths"
         }
        }
       }
      },
      "text/html": [
       "<div>\n",
       "        \n",
       "        \n",
       "            <div id=\"076b283e-d703-4f08-918b-1af5c9cd15b4\" class=\"plotly-graph-div\" style=\"height:525px; width:100%;\"></div>\n",
       "            <script type=\"text/javascript\">\n",
       "                require([\"plotly\"], function(Plotly) {\n",
       "                    window.PLOTLYENV=window.PLOTLYENV || {};\n",
       "                    \n",
       "                if (document.getElementById(\"076b283e-d703-4f08-918b-1af5c9cd15b4\")) {\n",
       "                    Plotly.newPlot(\n",
       "                        '076b283e-d703-4f08-918b-1af5c9cd15b4',\n",
       "                        [{\"hoverlabel\": {\"namelength\": 0}, \"hovertemplate\": \"<b>%{hovertext}</b><br><br>country=%{x}<br>total_deaths=%{marker.size}\", \"hovertext\": [\"USA\"], \"legendgroup\": \"USA\", \"marker\": {\"color\": \"#636efa\", \"size\": [22133], \"sizemode\": \"area\", \"sizeref\": 6.148055555555556, \"symbol\": \"circle\"}, \"mode\": \"markers\", \"name\": \"USA\", \"showlegend\": true, \"type\": \"scatter\", \"x\": [\"USA\"], \"xaxis\": \"x\", \"y\": [22133], \"yaxis\": \"y\"}, {\"hoverlabel\": {\"namelength\": 0}, \"hovertemplate\": \"<b>%{hovertext}</b><br><br>country=%{x}<br>total_deaths=%{marker.size}\", \"hovertext\": [\"Spain\"], \"legendgroup\": \"Spain\", \"marker\": {\"color\": \"#EF553B\", \"size\": [17489], \"sizemode\": \"area\", \"sizeref\": 6.148055555555556, \"symbol\": \"circle\"}, \"mode\": \"markers\", \"name\": \"Spain\", \"showlegend\": true, \"type\": \"scatter\", \"x\": [\"Spain\"], \"xaxis\": \"x\", \"y\": [17489], \"yaxis\": \"y\"}, {\"hoverlabel\": {\"namelength\": 0}, \"hovertemplate\": \"<b>%{hovertext}</b><br><br>country=%{x}<br>total_deaths=%{marker.size}\", \"hovertext\": [\"Italy\"], \"legendgroup\": \"Italy\", \"marker\": {\"color\": \"#00cc96\", \"size\": [19899], \"sizemode\": \"area\", \"sizeref\": 6.148055555555556, \"symbol\": \"circle\"}, \"mode\": \"markers\", \"name\": \"Italy\", \"showlegend\": true, \"type\": \"scatter\", \"x\": [\"Italy\"], \"xaxis\": \"x\", \"y\": [19899], \"yaxis\": \"y\"}, {\"hoverlabel\": {\"namelength\": 0}, \"hovertemplate\": \"<b>%{hovertext}</b><br><br>country=%{x}<br>total_deaths=%{marker.size}\", \"hovertext\": [\"France\"], \"legendgroup\": \"France\", \"marker\": {\"color\": \"#ab63fa\", \"size\": [14393], \"sizemode\": \"area\", \"sizeref\": 6.148055555555556, \"symbol\": \"circle\"}, \"mode\": \"markers\", \"name\": \"France\", \"showlegend\": true, \"type\": \"scatter\", \"x\": [\"France\"], \"xaxis\": \"x\", \"y\": [14393], \"yaxis\": \"y\"}, {\"hoverlabel\": {\"namelength\": 0}, \"hovertemplate\": \"<b>%{hovertext}</b><br><br>country=%{x}<br>total_deaths=%{marker.size}\", \"hovertext\": [\"Germany\"], \"legendgroup\": \"Germany\", \"marker\": {\"color\": \"#FFA15A\", \"size\": [3022], \"sizemode\": \"area\", \"sizeref\": 6.148055555555556, \"symbol\": \"circle\"}, \"mode\": \"markers\", \"name\": \"Germany\", \"showlegend\": true, \"type\": \"scatter\", \"x\": [\"Germany\"], \"xaxis\": \"x\", \"y\": [3022], \"yaxis\": \"y\"}, {\"hoverlabel\": {\"namelength\": 0}, \"hovertemplate\": \"<b>%{hovertext}</b><br><br>country=%{x}<br>total_deaths=%{marker.size}\", \"hovertext\": [\"UK\"], \"legendgroup\": \"UK\", \"marker\": {\"color\": \"#19d3f3\", \"size\": [11329], \"sizemode\": \"area\", \"sizeref\": 6.148055555555556, \"symbol\": \"circle\"}, \"mode\": \"markers\", \"name\": \"UK\", \"showlegend\": true, \"type\": \"scatter\", \"x\": [\"UK\"], \"xaxis\": \"x\", \"y\": [11329], \"yaxis\": \"y\"}, {\"hoverlabel\": {\"namelength\": 0}, \"hovertemplate\": \"<b>%{hovertext}</b><br><br>country=%{x}<br>total_deaths=%{marker.size}\", \"hovertext\": [\"Iran\"], \"legendgroup\": \"Iran\", \"marker\": {\"color\": \"#FF6692\", \"size\": [4585], \"sizemode\": \"area\", \"sizeref\": 6.148055555555556, \"symbol\": \"circle\"}, \"mode\": \"markers\", \"name\": \"Iran\", \"showlegend\": true, \"type\": \"scatter\", \"x\": [\"Iran\"], \"xaxis\": \"x\", \"y\": [4585], \"yaxis\": \"y\"}, {\"hoverlabel\": {\"namelength\": 0}, \"hovertemplate\": \"<b>%{hovertext}</b><br><br>country=%{x}<br>total_deaths=%{marker.size}\", \"hovertext\": [\"Turkey\"], \"legendgroup\": \"Turkey\", \"marker\": {\"color\": \"#B6E880\", \"size\": [1198], \"sizemode\": \"area\", \"sizeref\": 6.148055555555556, \"symbol\": \"circle\"}, \"mode\": \"markers\", \"name\": \"Turkey\", \"showlegend\": true, \"type\": \"scatter\", \"x\": [\"Turkey\"], \"xaxis\": \"x\", \"y\": [1198], \"yaxis\": \"y\"}, {\"hoverlabel\": {\"namelength\": 0}, \"hovertemplate\": \"<b>%{hovertext}</b><br><br>country=%{x}<br>total_deaths=%{marker.size}\", \"hovertext\": [\"Belgium\"], \"legendgroup\": \"Belgium\", \"marker\": {\"color\": \"#FF97FF\", \"size\": [3903], \"sizemode\": \"area\", \"sizeref\": 6.148055555555556, \"symbol\": \"circle\"}, \"mode\": \"markers\", \"name\": \"Belgium\", \"showlegend\": true, \"type\": \"scatter\", \"x\": [\"Belgium\"], \"xaxis\": \"x\", \"y\": [3903], \"yaxis\": \"y\"}, {\"hoverlabel\": {\"namelength\": 0}, \"hovertemplate\": \"<b>%{hovertext}</b><br><br>country=%{x}<br>total_deaths=%{marker.size}\", \"hovertext\": [\"Netherlands\"], \"legendgroup\": \"Netherlands\", \"marker\": {\"color\": \"#FECB52\", \"size\": [2823], \"sizemode\": \"area\", \"sizeref\": 6.148055555555556, \"symbol\": \"circle\"}, \"mode\": \"markers\", \"name\": \"Netherlands\", \"showlegend\": true, \"type\": \"scatter\", \"x\": [\"Netherlands\"], \"xaxis\": \"x\", \"y\": [2823], \"yaxis\": \"y\"}, {\"hoverlabel\": {\"namelength\": 0}, \"hovertemplate\": \"<b>%{hovertext}</b><br><br>country=%{x}<br>total_deaths=%{marker.size}\", \"hovertext\": [\"Switzerland\"], \"legendgroup\": \"Switzerland\", \"marker\": {\"color\": \"#636efa\", \"size\": [1129], \"sizemode\": \"area\", \"sizeref\": 6.148055555555556, \"symbol\": \"circle\"}, \"mode\": \"markers\", \"name\": \"Switzerland\", \"showlegend\": true, \"type\": \"scatter\", \"x\": [\"Switzerland\"], \"xaxis\": \"x\", \"y\": [1129], \"yaxis\": \"y\"}, {\"hoverlabel\": {\"namelength\": 0}, \"hovertemplate\": \"<b>%{hovertext}</b><br><br>country=%{x}<br>total_deaths=%{marker.size}\", \"hovertext\": [\"Canada\"], \"legendgroup\": \"Canada\", \"marker\": {\"color\": \"#EF553B\", \"size\": [717], \"sizemode\": \"area\", \"sizeref\": 6.148055555555556, \"symbol\": \"circle\"}, \"mode\": \"markers\", \"name\": \"Canada\", \"showlegend\": true, \"type\": \"scatter\", \"x\": [\"Canada\"], \"xaxis\": \"x\", \"y\": [717], \"yaxis\": \"y\"}, {\"hoverlabel\": {\"namelength\": 0}, \"hovertemplate\": \"<b>%{hovertext}</b><br><br>country=%{x}<br>total_deaths=%{marker.size}\", \"hovertext\": [\"Brazil\"], \"legendgroup\": \"Brazil\", \"marker\": {\"color\": \"#00cc96\", \"size\": [1241], \"sizemode\": \"area\", \"sizeref\": 6.148055555555556, \"symbol\": \"circle\"}, \"mode\": \"markers\", \"name\": \"Brazil\", \"showlegend\": true, \"type\": \"scatter\", \"x\": [\"Brazil\"], \"xaxis\": \"x\", \"y\": [1241], \"yaxis\": \"y\"}, {\"hoverlabel\": {\"namelength\": 0}, \"hovertemplate\": \"<b>%{hovertext}</b><br><br>country=%{x}<br>total_deaths=%{marker.size}\", \"hovertext\": [\"Russia\"], \"legendgroup\": \"Russia\", \"marker\": {\"color\": \"#ab63fa\", \"size\": [148], \"sizemode\": \"area\", \"sizeref\": 6.148055555555556, \"symbol\": \"circle\"}, \"mode\": \"markers\", \"name\": \"Russia\", \"showlegend\": true, \"type\": \"scatter\", \"x\": [\"Russia\"], \"xaxis\": \"x\", \"y\": [148], \"yaxis\": \"y\"}, {\"hoverlabel\": {\"namelength\": 0}, \"hovertemplate\": \"<b>%{hovertext}</b><br><br>country=%{x}<br>total_deaths=%{marker.size}\", \"hovertext\": [\"Portugal\"], \"legendgroup\": \"Portugal\", \"marker\": {\"color\": \"#FFA15A\", \"size\": [535], \"sizemode\": \"area\", \"sizeref\": 6.148055555555556, \"symbol\": \"circle\"}, \"mode\": \"markers\", \"name\": \"Portugal\", \"showlegend\": true, \"type\": \"scatter\", \"x\": [\"Portugal\"], \"xaxis\": \"x\", \"y\": [535], \"yaxis\": \"y\"}],\n",
       "                        {\"legend\": {\"itemsizing\": \"constant\", \"title\": {\"text\": \"country\"}, \"tracegroupgap\": 0}, \"margin\": {\"t\": 60}, \"template\": {\"data\": {\"bar\": [{\"error_x\": {\"color\": \"#2a3f5f\"}, \"error_y\": {\"color\": \"#2a3f5f\"}, \"marker\": {\"line\": {\"color\": \"#E5ECF6\", \"width\": 0.5}}, \"type\": \"bar\"}], \"barpolar\": [{\"marker\": {\"line\": {\"color\": \"#E5ECF6\", \"width\": 0.5}}, \"type\": \"barpolar\"}], \"carpet\": [{\"aaxis\": {\"endlinecolor\": \"#2a3f5f\", \"gridcolor\": \"white\", \"linecolor\": \"white\", \"minorgridcolor\": \"white\", \"startlinecolor\": \"#2a3f5f\"}, \"baxis\": {\"endlinecolor\": \"#2a3f5f\", \"gridcolor\": \"white\", \"linecolor\": \"white\", \"minorgridcolor\": \"white\", \"startlinecolor\": \"#2a3f5f\"}, \"type\": \"carpet\"}], \"choropleth\": [{\"colorbar\": {\"outlinewidth\": 0, \"ticks\": \"\"}, \"type\": \"choropleth\"}], \"contour\": [{\"colorbar\": {\"outlinewidth\": 0, \"ticks\": \"\"}, \"colorscale\": [[0.0, \"#0d0887\"], [0.1111111111111111, \"#46039f\"], [0.2222222222222222, \"#7201a8\"], [0.3333333333333333, \"#9c179e\"], [0.4444444444444444, \"#bd3786\"], [0.5555555555555556, \"#d8576b\"], [0.6666666666666666, \"#ed7953\"], [0.7777777777777778, \"#fb9f3a\"], [0.8888888888888888, \"#fdca26\"], [1.0, \"#f0f921\"]], \"type\": \"contour\"}], \"contourcarpet\": [{\"colorbar\": {\"outlinewidth\": 0, \"ticks\": \"\"}, \"type\": \"contourcarpet\"}], \"heatmap\": [{\"colorbar\": {\"outlinewidth\": 0, \"ticks\": \"\"}, \"colorscale\": [[0.0, \"#0d0887\"], [0.1111111111111111, \"#46039f\"], [0.2222222222222222, \"#7201a8\"], [0.3333333333333333, \"#9c179e\"], [0.4444444444444444, \"#bd3786\"], [0.5555555555555556, \"#d8576b\"], [0.6666666666666666, \"#ed7953\"], [0.7777777777777778, \"#fb9f3a\"], [0.8888888888888888, \"#fdca26\"], [1.0, \"#f0f921\"]], \"type\": \"heatmap\"}], \"heatmapgl\": [{\"colorbar\": {\"outlinewidth\": 0, \"ticks\": \"\"}, \"colorscale\": [[0.0, \"#0d0887\"], [0.1111111111111111, \"#46039f\"], [0.2222222222222222, \"#7201a8\"], [0.3333333333333333, \"#9c179e\"], [0.4444444444444444, \"#bd3786\"], [0.5555555555555556, \"#d8576b\"], [0.6666666666666666, \"#ed7953\"], [0.7777777777777778, \"#fb9f3a\"], [0.8888888888888888, \"#fdca26\"], [1.0, \"#f0f921\"]], \"type\": \"heatmapgl\"}], \"histogram\": [{\"marker\": {\"colorbar\": {\"outlinewidth\": 0, \"ticks\": \"\"}}, \"type\": \"histogram\"}], \"histogram2d\": [{\"colorbar\": {\"outlinewidth\": 0, \"ticks\": \"\"}, \"colorscale\": [[0.0, \"#0d0887\"], [0.1111111111111111, \"#46039f\"], [0.2222222222222222, \"#7201a8\"], [0.3333333333333333, \"#9c179e\"], [0.4444444444444444, \"#bd3786\"], [0.5555555555555556, \"#d8576b\"], [0.6666666666666666, \"#ed7953\"], [0.7777777777777778, \"#fb9f3a\"], [0.8888888888888888, \"#fdca26\"], [1.0, \"#f0f921\"]], \"type\": \"histogram2d\"}], \"histogram2dcontour\": [{\"colorbar\": {\"outlinewidth\": 0, \"ticks\": \"\"}, \"colorscale\": [[0.0, \"#0d0887\"], [0.1111111111111111, \"#46039f\"], [0.2222222222222222, \"#7201a8\"], [0.3333333333333333, \"#9c179e\"], [0.4444444444444444, \"#bd3786\"], [0.5555555555555556, \"#d8576b\"], [0.6666666666666666, \"#ed7953\"], [0.7777777777777778, \"#fb9f3a\"], [0.8888888888888888, \"#fdca26\"], [1.0, \"#f0f921\"]], \"type\": \"histogram2dcontour\"}], \"mesh3d\": [{\"colorbar\": {\"outlinewidth\": 0, \"ticks\": \"\"}, \"type\": \"mesh3d\"}], \"parcoords\": [{\"line\": {\"colorbar\": {\"outlinewidth\": 0, \"ticks\": \"\"}}, \"type\": \"parcoords\"}], \"pie\": [{\"automargin\": true, \"type\": \"pie\"}], \"scatter\": [{\"marker\": {\"colorbar\": {\"outlinewidth\": 0, \"ticks\": \"\"}}, \"type\": \"scatter\"}], \"scatter3d\": [{\"line\": {\"colorbar\": {\"outlinewidth\": 0, \"ticks\": \"\"}}, \"marker\": {\"colorbar\": {\"outlinewidth\": 0, \"ticks\": \"\"}}, \"type\": \"scatter3d\"}], \"scattercarpet\": [{\"marker\": {\"colorbar\": {\"outlinewidth\": 0, \"ticks\": \"\"}}, \"type\": \"scattercarpet\"}], \"scattergeo\": [{\"marker\": {\"colorbar\": {\"outlinewidth\": 0, \"ticks\": \"\"}}, \"type\": \"scattergeo\"}], \"scattergl\": [{\"marker\": {\"colorbar\": {\"outlinewidth\": 0, \"ticks\": \"\"}}, \"type\": \"scattergl\"}], \"scattermapbox\": [{\"marker\": {\"colorbar\": {\"outlinewidth\": 0, \"ticks\": \"\"}}, \"type\": \"scattermapbox\"}], \"scatterpolar\": [{\"marker\": {\"colorbar\": {\"outlinewidth\": 0, \"ticks\": \"\"}}, \"type\": \"scatterpolar\"}], \"scatterpolargl\": [{\"marker\": {\"colorbar\": {\"outlinewidth\": 0, \"ticks\": \"\"}}, \"type\": \"scatterpolargl\"}], \"scatterternary\": [{\"marker\": {\"colorbar\": {\"outlinewidth\": 0, \"ticks\": \"\"}}, \"type\": \"scatterternary\"}], \"surface\": [{\"colorbar\": {\"outlinewidth\": 0, \"ticks\": \"\"}, \"colorscale\": [[0.0, \"#0d0887\"], [0.1111111111111111, \"#46039f\"], [0.2222222222222222, \"#7201a8\"], [0.3333333333333333, \"#9c179e\"], [0.4444444444444444, \"#bd3786\"], [0.5555555555555556, \"#d8576b\"], [0.6666666666666666, \"#ed7953\"], [0.7777777777777778, \"#fb9f3a\"], [0.8888888888888888, \"#fdca26\"], [1.0, \"#f0f921\"]], \"type\": \"surface\"}], \"table\": [{\"cells\": {\"fill\": {\"color\": \"#EBF0F8\"}, \"line\": {\"color\": \"white\"}}, \"header\": {\"fill\": {\"color\": \"#C8D4E3\"}, \"line\": {\"color\": \"white\"}}, \"type\": \"table\"}]}, \"layout\": {\"annotationdefaults\": {\"arrowcolor\": \"#2a3f5f\", \"arrowhead\": 0, \"arrowwidth\": 1}, \"coloraxis\": {\"colorbar\": {\"outlinewidth\": 0, \"ticks\": \"\"}}, \"colorscale\": {\"diverging\": [[0, \"#8e0152\"], [0.1, \"#c51b7d\"], [0.2, \"#de77ae\"], [0.3, \"#f1b6da\"], [0.4, \"#fde0ef\"], [0.5, \"#f7f7f7\"], [0.6, \"#e6f5d0\"], [0.7, \"#b8e186\"], [0.8, \"#7fbc41\"], [0.9, \"#4d9221\"], [1, \"#276419\"]], \"sequential\": [[0.0, \"#0d0887\"], [0.1111111111111111, \"#46039f\"], [0.2222222222222222, \"#7201a8\"], [0.3333333333333333, \"#9c179e\"], [0.4444444444444444, \"#bd3786\"], [0.5555555555555556, \"#d8576b\"], [0.6666666666666666, \"#ed7953\"], [0.7777777777777778, \"#fb9f3a\"], [0.8888888888888888, \"#fdca26\"], [1.0, \"#f0f921\"]], \"sequentialminus\": [[0.0, \"#0d0887\"], [0.1111111111111111, \"#46039f\"], [0.2222222222222222, \"#7201a8\"], [0.3333333333333333, \"#9c179e\"], [0.4444444444444444, \"#bd3786\"], [0.5555555555555556, \"#d8576b\"], [0.6666666666666666, \"#ed7953\"], [0.7777777777777778, \"#fb9f3a\"], [0.8888888888888888, \"#fdca26\"], [1.0, \"#f0f921\"]]}, \"colorway\": [\"#636efa\", \"#EF553B\", \"#00cc96\", \"#ab63fa\", \"#FFA15A\", \"#19d3f3\", \"#FF6692\", \"#B6E880\", \"#FF97FF\", \"#FECB52\"], \"font\": {\"color\": \"#2a3f5f\"}, \"geo\": {\"bgcolor\": \"white\", \"lakecolor\": \"white\", \"landcolor\": \"#E5ECF6\", \"showlakes\": true, \"showland\": true, \"subunitcolor\": \"white\"}, \"hoverlabel\": {\"align\": \"left\"}, \"hovermode\": \"closest\", \"mapbox\": {\"style\": \"light\"}, \"paper_bgcolor\": \"white\", \"plot_bgcolor\": \"#E5ECF6\", \"polar\": {\"angularaxis\": {\"gridcolor\": \"white\", \"linecolor\": \"white\", \"ticks\": \"\"}, \"bgcolor\": \"#E5ECF6\", \"radialaxis\": {\"gridcolor\": \"white\", \"linecolor\": \"white\", \"ticks\": \"\"}}, \"scene\": {\"xaxis\": {\"backgroundcolor\": \"#E5ECF6\", \"gridcolor\": \"white\", \"gridwidth\": 2, \"linecolor\": \"white\", \"showbackground\": true, \"ticks\": \"\", \"zerolinecolor\": \"white\"}, \"yaxis\": {\"backgroundcolor\": \"#E5ECF6\", \"gridcolor\": \"white\", \"gridwidth\": 2, \"linecolor\": \"white\", \"showbackground\": true, \"ticks\": \"\", \"zerolinecolor\": \"white\"}, \"zaxis\": {\"backgroundcolor\": \"#E5ECF6\", \"gridcolor\": \"white\", \"gridwidth\": 2, \"linecolor\": \"white\", \"showbackground\": true, \"ticks\": \"\", \"zerolinecolor\": \"white\"}}, \"shapedefaults\": {\"line\": {\"color\": \"#2a3f5f\"}}, \"ternary\": {\"aaxis\": {\"gridcolor\": \"white\", \"linecolor\": \"white\", \"ticks\": \"\"}, \"baxis\": {\"gridcolor\": \"white\", \"linecolor\": \"white\", \"ticks\": \"\"}, \"bgcolor\": \"#E5ECF6\", \"caxis\": {\"gridcolor\": \"white\", \"linecolor\": \"white\", \"ticks\": \"\"}}, \"title\": {\"x\": 0.05}, \"xaxis\": {\"automargin\": true, \"gridcolor\": \"white\", \"linecolor\": \"white\", \"ticks\": \"\", \"title\": {\"standoff\": 15}, \"zerolinecolor\": \"white\", \"zerolinewidth\": 2}, \"yaxis\": {\"automargin\": true, \"gridcolor\": \"white\", \"linecolor\": \"white\", \"ticks\": \"\", \"title\": {\"standoff\": 15}, \"zerolinecolor\": \"white\", \"zerolinewidth\": 2}}}, \"xaxis\": {\"anchor\": \"y\", \"categoryarray\": [\"USA\", \"Spain\", \"Italy\", \"France\", \"Germany\", \"UK\", \"Iran\", \"Turkey\", \"Belgium\", \"Netherlands\", \"Switzerland\", \"Canada\", \"Brazil\", \"Russia\", \"Portugal\"], \"categoryorder\": \"array\", \"domain\": [0.0, 1.0], \"title\": {\"text\": \"country\"}}, \"yaxis\": {\"anchor\": \"x\", \"domain\": [0.0, 1.0], \"title\": {\"text\": \"total_deaths\"}}},\n",
       "                        {\"responsive\": true}\n",
       "                    ).then(function(){\n",
       "                            \n",
       "var gd = document.getElementById('076b283e-d703-4f08-918b-1af5c9cd15b4');\n",
       "var x = new MutationObserver(function (mutations, observer) {{\n",
       "        var display = window.getComputedStyle(gd).display;\n",
       "        if (!display || display === 'none') {{\n",
       "            console.log([gd, 'removed!']);\n",
       "            Plotly.purge(gd);\n",
       "            observer.disconnect();\n",
       "        }}\n",
       "}});\n",
       "\n",
       "// Listen for the removal of the full notebook cells\n",
       "var notebookContainer = gd.closest('#notebook-container');\n",
       "if (notebookContainer) {{\n",
       "    x.observe(notebookContainer, {childList: true});\n",
       "}}\n",
       "\n",
       "// Listen for the clearing of the current output cell\n",
       "var outputEl = gd.closest('.output');\n",
       "if (outputEl) {{\n",
       "    x.observe(outputEl, {childList: true});\n",
       "}}\n",
       "\n",
       "                        })\n",
       "                };\n",
       "                });\n",
       "            </script>\n",
       "        </div>"
      ]
     },
     "metadata": {},
     "output_type": "display_data"
    }
   ],
   "source": [
    "import requests\n",
    "import notify2\n",
    "import logging\n",
    "from bs4 import BeautifulSoup\n",
    "import matplotlib.pyplot as plt\n",
    "import pandas as pd\n",
    "from tabulate import tabulate\n",
    "import plotly.express as px\n",
    "\n",
    "class covid:\n",
    "    \n",
    "    def __init__(self, url):   \n",
    "        self.url = url\n",
    "    \n",
    "    def logged_errors(self, msg):        \n",
    "        logger = logging.getLogger(__name__)\n",
    "        logger.setLevel(logging.INFO)\n",
    "        formatter = logging.Formatter('%(asctime)s:%(levelname)s:%(message)s')\n",
    "        file_handler = logging.FileHandler('covid.log')\n",
    "        file_handler.setFormatter(formatter)\n",
    "        logger.addHandler(file_handler)\n",
    "        logger.error(msg)\n",
    "        \n",
    "    def show_notification(self, title, message, icon):\n",
    "        try:\n",
    "            notify2.init('app')\n",
    "            notification = notify2.Notification(title, message, icon)\n",
    "            notification.set_urgency(2)\n",
    "            notification.show()\n",
    "            self.logged_errors(message)\n",
    "        except Exception:\n",
    "            return\n",
    "    \n",
    "    def get_http_data(self):\n",
    "        try:\n",
    "            http_data = requests.get(self.url)\n",
    "            if http_data.status_code != 200:\n",
    "                title = \"FAILED\"\n",
    "                msg = f\"http get request failed with : {http_data.status_code}\"\n",
    "                icon = \"dialog-information\"\n",
    "                self.show_notification(title, msg, icon)\n",
    "                return\n",
    "            else:\n",
    "                return http_data\n",
    "        except Exception:\n",
    "            return\n",
    "        \n",
    "    def parse_http_data(self, http_data):\n",
    "        global soup\n",
    "        soup = BeautifulSoup(http_data.text, 'lxml')\n",
    "        self.get_total_world_data()\n",
    "        \n",
    "    def get_total_world_data(self):\n",
    "        \n",
    "        # Get Total Cases in World\n",
    "        total_numbers = soup.find_all('div', class_='maincounter-number')\n",
    "        global world_cases\n",
    "        world_cases = []\n",
    "        for t in total_numbers:\n",
    "            world_cases.append(t.span.text.strip())\n",
    "        \n",
    "        # Get Total Active and Closed Cases in World\n",
    "        global active_closed_cases\n",
    "        active_closed_cases = []\n",
    "        total_active_closed = soup.find_all('div',class_='number-table-main')\n",
    "        for t in total_active_closed:\n",
    "            active_closed_cases.append(t.text)\n",
    "            \n",
    "        # Get mild condition patient count and critical patient count\n",
    "        global mild_critical_cases\n",
    "        mild_critical_cases = []\n",
    "        total_mild_critical_cases = soup.find_all('span', class_='number-table')\n",
    "        for m in total_mild_critical_cases:\n",
    "            mild_critical_cases.append(m.text.strip())\n",
    "        \n",
    "        mild_critical_cases = mild_critical_cases[:2]\n",
    "    \n",
    "    def get_all_countries_data(self):\n",
    "        all_countries_data_tbody = soup.find('tbody')\n",
    "        all_countries_data = ''\n",
    "        for tr in all_countries_data_tbody.find_all('tr')[8:]:\n",
    "            for td in tr.find_all('td'):\n",
    "                all_countries_data += td.text.strip() + '$'\n",
    "            all_countries_data += '\\n'\n",
    "        all_countries_data = all_countries_data.split('\\n')\n",
    "        \n",
    "        global all_countries_data_temp\n",
    "        all_countries_data_temp = []\n",
    "        len_ = len(all_countries_data)\n",
    "        for data in all_countries_data[:len_-1]:\n",
    "            all_countries_data_temp.append(data.split('$')[:11])\n",
    "            \n",
    "    \n",
    "    def create_dataframe(self):\n",
    "        global df\n",
    "        df = pd.DataFrame(all_countries_data_temp)\n",
    "        columns = ['country', 'total_cases', 'new_cases', 'total_deaths', 'new_deaths', 'total_recovered',\n",
    "                  'active_cases', 'serious_critical', 'total_cases_per_1M', 'deaths_per_1M', 'total_tests']\n",
    "        df.columns = columns\n",
    "        df.replace('', 'nan', inplace=True)\n",
    "        df.replace('N/A', 'nan', inplace=True)\n",
    "        \n",
    "        df.drop(['total_cases_per_1M', 'deaths_per_1M'], axis=True, inplace=True)\n",
    "        \n",
    "        #write to a file\n",
    "        df.to_csv('covid.csv',index=False,header=True)\n",
    "        \n",
    "    def string_to_num(self, string):\n",
    "        if string == 'nan':\n",
    "            return 0\n",
    "        elif string[0] == '+':\n",
    "            string = string[1:]\n",
    "            return int(''.join(string.split(',')))\n",
    "        else:\n",
    "            return int(''.join(string.split(',')))\n",
    "    \n",
    "    def change_cols_data_to_numeric(self):\n",
    "        df['total_cases'] = df['total_cases'].apply(self.string_to_num)\n",
    "        df['new_cases'] = df['new_cases'].apply(self.string_to_num)\n",
    "        df['total_deaths'] = df['total_deaths'].apply(self.string_to_num)\n",
    "        df['new_deaths'] = df['new_deaths'].apply(self.string_to_num)\n",
    "        df['total_recovered'] = df['total_recovered'].apply(self.string_to_num)\n",
    "        df['active_cases'] = df['active_cases'].apply(self.string_to_num)\n",
    "        df['serious_critical'] = df['serious_critical'].apply(self.string_to_num)\n",
    "        df['total_tests'] = df['total_tests'].apply(self.string_to_num)\n",
    "        print(tabulate(df.head(10)))\n",
    "            \n",
    "    @staticmethod\n",
    "    def plot_total_numbers():\n",
    "        fig = plt.figure()\n",
    "        ax = fig.add_subplot(111)\n",
    "        world_cases_temp = []\n",
    "        ax.set(title='Current Coronavirus Cases Stats')\n",
    "        for c in world_cases:\n",
    "            world_cases_temp.append(int((''.join(c.split(',')))))\n",
    "        text = ['total_cases','total_deaths','total_recovered']\n",
    "        ax.bar(text,world_cases_temp)\n",
    "        plt.show()\n",
    "    \n",
    "    @staticmethod\n",
    "    def plot_active_closed_cases():\n",
    "        fig = plt.figure()\n",
    "        ax = fig.add_subplot(111)\n",
    "        ax.set(title='Total Coronavirus Cases distribution')\n",
    "        active_closed_cases_temp = []\n",
    "        for c in active_closed_cases:\n",
    "            active_closed_cases_temp.append(int((''.join(c.split(',')))))\n",
    "        text = ['active_cases','closed_cases']\n",
    "        ax.bar(text,active_closed_cases_temp)\n",
    "        plt.show()\n",
    "\n",
    "    @staticmethod\n",
    "    def plot_mild_critical_cases():\n",
    "        fig = plt.figure()\n",
    "        ax = fig.add_subplot(111)\n",
    "        ax.set(title='Total Active Cases distribution')\n",
    "        mild_critical_cases_temp = []\n",
    "        for c in mild_critical_cases:\n",
    "            mild_critical_cases_temp.append(int((''.join(c.split(',')))))\n",
    "        text = ['mild_cases','critical_cases']\n",
    "        ax.bar(text,mild_critical_cases_temp)\n",
    "        plt.show()\n",
    "    \n",
    "    @staticmethod\n",
    "    def plot_country_active_cases():\n",
    "        fig = px.scatter(df.head(15), x='country', y='active_cases',\n",
    "                        size='active_cases', color='country', hover_name='country', size_max=60)\n",
    "        fig.show()\n",
    "    \n",
    "    @staticmethod\n",
    "    def plot_country_death_cases():\n",
    "        fig = px.scatter(df.head(15), x='country', y='total_deaths',\n",
    "                        size='total_deaths', color='country', hover_name='country', size_max=60)\n",
    "        fig.show()\n",
    "            \n",
    "if __name__ == \"__main__\":\n",
    "    \n",
    "    url = \"https://www.worldometers.info/coronavirus/\"\n",
    "    c = covid(url)\n",
    "    http_data = c.get_http_data()\n",
    "    if http_data:\n",
    "        c.parse_http_data(http_data)\n",
    "        c.get_all_countries_data()\n",
    "        c.create_dataframe()\n",
    "        c.change_cols_data_to_numeric()\n",
    "        #c.plot_total_numbers()\n",
    "        #c.plot_active_closed_cases()\n",
    "        #c.plot_mild_critical_cases()\n",
    "        c.plot_country_active_cases()\n",
    "        c.plot_country_death_cases()"
   ]
  }
 ],
 "metadata": {
  "kernelspec": {
   "display_name": "Python 3",
   "language": "python",
   "name": "python3"
  },
  "language_info": {
   "codemirror_mode": {
    "name": "ipython",
    "version": 3
   },
   "file_extension": ".py",
   "mimetype": "text/x-python",
   "name": "python",
   "nbconvert_exporter": "python",
   "pygments_lexer": "ipython3",
   "version": "3.6.9"
  }
 },
 "nbformat": 4,
 "nbformat_minor": 2
}
